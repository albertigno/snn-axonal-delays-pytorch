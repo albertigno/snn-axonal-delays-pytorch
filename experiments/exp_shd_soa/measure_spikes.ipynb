{
 "cells": [
  {
   "cell_type": "code",
   "execution_count": 1,
   "id": "87d8643a-5809-4d7f-8b26-0727f9339d91",
   "metadata": {},
   "outputs": [],
   "source": [
    "#from my_snn.rsnn import RSNN, RSNN_2l, RSNN_2l_ALIF\n",
    "from my_snn.rsnn_delays import RSNN_d_d, RSNN_d_i, RSNN_d_all\n",
    "from my_snn.tonic_dataloader import DatasetLoader\n",
    "from my_snn.utils import train, training_plots, ModelLoader\n",
    "import torch\n",
    "device = \"cuda:0\"\n",
    "\n",
    "import matplotlib.pyplot as  plt\n",
    "\n",
    "time_window = 250\n",
    "batch_size = 256\n",
    "dataset = 'shd'\n",
    "\n",
    "DL = DatasetLoader(dataset=dataset, caching='disk', num_workers=0, batch_size=batch_size, time_window=time_window)\n",
    "test_loader, train_loader = DL.get_dataloaders()\n",
    "\n",
    "ckpt_dir = 'barridos_shd'\n",
    "\n",
    "data = test_loader, train_loader\n",
    "\n",
    "dropout = 0.2\n",
    "\n",
    "import numpy as np\n",
    "def test_fn(snn, ckpt_dir, test_loader, ma, epoch):\n",
    "    if (epoch + 1) % 5 == 0:\n",
    "        snn.test(test_loader, dropout=dropout)\n",
    "        last_acc = np.array(snn.acc)[-1,1]\n",
    "        max_acc = np.max(np.array(snn.acc)[:,1])\n",
    "        if last_acc == max_acc:\n",
    "            print(f'saving max acc: {max_acc}')\n",
    "            snn.save_model(snn.modelname+'_'+ ''.join(str(np.array(snn.acc)[-1,1]).split('.')) , ckpt_dir)\n",
    "            "
   ]
  },
  {
   "cell_type": "code",
   "execution_count": 2,
   "id": "95d2c986-d765-4def-93e5-a8c894ab5043",
   "metadata": {},
   "outputs": [],
   "source": [
    "model_150_3_name = 'shd250_128x2_d_150_3_fs_8671875'\n",
    "model_150_6_name = 'shd250_128x2_d_150_6_fs_89453125'"
   ]
  },
  {
   "cell_type": "code",
   "execution_count": 3,
   "id": "053115cc-b992-49c0-b031-71a03f775019",
   "metadata": {},
   "outputs": [
    {
     "name": "stderr",
     "output_type": "stream",
     "text": [
      "C:\\Users\\saucedo\\anaconda3\\envs\\deeplearnig\\lib\\site-packages\\torch\\serialization.py:658: SourceChangeWarning: source code of class 'my_snn.rsnn_delays.RSNN_d_d' has changed. you can retrieve the original source code by accessing the object's source attribute or set `torch.nn.Module.dump_patches = True` and use the patch tool to revert the changes.\n",
      "  warnings.warn(msg, SourceChangeWarning)\n"
     ]
    },
    {
     "name": "stdout",
     "output_type": "stream",
     "text": [
      "delays: [0, 3, 6, 9, 12, 15, 18, 21, 24, 27, 30, 33, 36, 39, 42, 45, 48, 51, 54, 57, 60, 63, 66, 69, 72, 75, 78, 81, 84, 87, 90, 93, 96, 99, 102, 105, 108, 111, 114, 117, 120, 123, 126, 129, 132, 135, 138, 141, 144, 147]\n",
      "instance of <class 'my_snn.rsnn_delays.RSNN_d_d'> loaded sucessfully\n",
      "Test Loss: 0.5749121223177228\n",
      "Avg spk_count per neuron for all 250 timesteps 5.726463317871094\n",
      "Test Accuracy of the model on the test samples: 87.451\n",
      "tensor(0.0174, grad_fn=<MeanBackward0>)\n",
      "tensor(0.0280, grad_fn=<MeanBackward0>)\n",
      "tensor(41., grad_fn=<MaxBackward1>)\n",
      "tensor(21., grad_fn=<MaxBackward1>)\n"
     ]
    }
   ],
   "source": [
    "snn = ModelLoader(model_150_3_name, 'shd_soa_baselines', batch_size, 'cpu')\n",
    "snn.debug = True\n",
    "snn.test(test_loader, dropout = dropout)\n",
    "print(torch.mean(snn.spike_state['f1']))\n",
    "print(torch.mean(snn.spike_state['f2']))\n",
    "print(torch.max(torch.sum(snn.spike_state['f1'], dim=2)))\n",
    "print(torch.max(torch.sum(snn.spike_state['f2'], dim=2)))"
   ]
  },
  {
   "cell_type": "code",
   "execution_count": 4,
   "id": "4a09270a-032b-41ad-9b5f-a07245e47aac",
   "metadata": {},
   "outputs": [
    {
     "name": "stdout",
     "output_type": "stream",
     "text": [
      "delays: [0, 6, 12, 18, 24, 30, 36, 42, 48, 54, 60, 66, 72, 78, 84, 90, 96, 102, 108, 114, 120, 126, 132, 138, 144]\n",
      "instance of <class 'my_snn.rsnn_delays.RSNN_d_d'> loaded sucessfully\n",
      "Test Loss: 0.6060989243643624\n",
      "Avg spk_count per neuron for all 250 timesteps 8.353109359741211\n",
      "Test Accuracy of the model on the test samples: 89.893\n",
      "tensor(0.0203, grad_fn=<MeanBackward0>)\n",
      "tensor(0.0466, grad_fn=<MeanBackward0>)\n",
      "tensor(36., grad_fn=<MaxBackward1>)\n",
      "tensor(29., grad_fn=<MaxBackward1>)\n"
     ]
    }
   ],
   "source": [
    "snn = ModelLoader(model_150_6_name, 'shd_soa_baselines', batch_size, 'cpu')\n",
    "snn.debug = True\n",
    "snn.test(test_loader, dropout = dropout)\n",
    "print(torch.mean(snn.spike_state['f1']))\n",
    "print(torch.mean(snn.spike_state['f2']))\n",
    "print(torch.max(torch.sum(snn.spike_state['f1'], dim=2)))\n",
    "print(torch.max(torch.sum(snn.spike_state['f2'], dim=2)))"
   ]
  },
  {
   "cell_type": "code",
   "execution_count": 28,
   "id": "41766e33-1e2a-4f04-b7d0-aa8ca35b5293",
   "metadata": {},
   "outputs": [],
   "source": [
    "model_16_150_3_name = 'shd250_16x2_d_150_3_fs_8544921875'\n",
    "model_16_150_6_name = 'shd250_16x2_d_150_6_fs_83984375'"
   ]
  },
  {
   "cell_type": "code",
   "execution_count": 29,
   "id": "13c75e65-05b4-4b34-bd68-484517b7aea6",
   "metadata": {},
   "outputs": [
    {
     "name": "stdout",
     "output_type": "stream",
     "text": [
      "delays: [0, 3, 6, 9, 12, 15, 18, 21, 24, 27, 30, 33, 36, 39, 42, 45, 48, 51, 54, 57, 60, 63, 66, 69, 72, 75, 78, 81, 84, 87, 90, 93, 96, 99, 102, 105, 108, 111, 114, 117, 120, 123, 126, 129, 132, 135, 138, 141, 144, 147]\n",
      "instance of <class 'my_snn.rsnn_delays.RSNN_d_d'> loaded sucessfully\n",
      "Test Loss: 0.4890225614820208\n",
      "Avg spk_count per neuron for all 250 timesteps 29.813766479492188\n",
      "Test Accuracy of the model on the test samples: 86.182\n",
      "tensor(0.1210, grad_fn=<MeanBackward0>)\n",
      "tensor(0.1184, grad_fn=<MeanBackward0>)\n",
      "tensor(12., grad_fn=<MaxBackward1>)\n",
      "tensor(8., grad_fn=<MaxBackward1>)\n"
     ]
    }
   ],
   "source": [
    "snn = ModelLoader(model_16_150_3_name, 'shd_soa_baselines', batch_size, 'cpu')\n",
    "snn.debug = True\n",
    "snn.test(test_loader, dropout = dropout)\n",
    "print(torch.mean(snn.spike_state['f1']))\n",
    "print(torch.mean(snn.spike_state['f2']))\n",
    "print(torch.max(torch.sum(snn.spike_state['f1'], dim=2)))\n",
    "print(torch.max(torch.sum(snn.spike_state['f2'], dim=2)))"
   ]
  },
  {
   "cell_type": "code",
   "execution_count": 30,
   "id": "2a071feb-89bf-47c1-8bb6-754a5bc21673",
   "metadata": {},
   "outputs": [
    {
     "name": "stdout",
     "output_type": "stream",
     "text": [
      "delays: [0, 6, 12, 18, 24, 30, 36, 42, 48, 54, 60, 66, 72, 78, 84, 90, 96, 102, 108, 114, 120, 126, 132, 138, 144]\n",
      "instance of <class 'my_snn.rsnn_delays.RSNN_d_d'> loaded sucessfully\n",
      "Test Loss: 0.9534817082541329\n",
      "Avg spk_count per neuron for all 250 timesteps 40.150909423828125\n",
      "Test Accuracy of the model on the test samples: 84.570\n",
      "tensor(0.1313, grad_fn=<MeanBackward0>)\n",
      "tensor(0.1906, grad_fn=<MeanBackward0>)\n",
      "tensor(11., grad_fn=<MaxBackward1>)\n",
      "tensor(11., grad_fn=<MaxBackward1>)\n"
     ]
    }
   ],
   "source": [
    "snn = ModelLoader(model_16_150_6_name, 'shd_soa_baselines', batch_size, 'cpu')\n",
    "snn.debug = True\n",
    "snn.test(test_loader, dropout = dropout)\n",
    "print(torch.mean(snn.spike_state['f1']))\n",
    "print(torch.mean(snn.spike_state['f2']))\n",
    "print(torch.max(torch.sum(snn.spike_state['f1'], dim=2)))\n",
    "print(torch.max(torch.sum(snn.spike_state['f2'], dim=2)))"
   ]
  },
  {
   "cell_type": "code",
   "execution_count": 31,
   "id": "5d6e67e2-fe24-4f3e-bd73-ab49d978ad91",
   "metadata": {},
   "outputs": [],
   "source": [
    "model_16_150_10_name = 'shd250_16x2_d_150_10_fs_83544921875'\n",
    "model_16_150_15_name = 'shd250_16x2_d_150_15_fs_85546875'"
   ]
  },
  {
   "cell_type": "code",
   "execution_count": 32,
   "id": "3881eb84-efa7-433e-b3ac-d82753b16b27",
   "metadata": {},
   "outputs": [
    {
     "name": "stdout",
     "output_type": "stream",
     "text": [
      "delays: [0, 10, 20, 30, 40, 50, 60, 70, 80, 90, 100, 110, 120, 130, 140]\n",
      "instance of <class 'my_snn.rsnn_delays.RSNN_d_d'> loaded sucessfully\n",
      "Test Loss: 0.7224046247346061\n",
      "Avg spk_count per neuron for all 250 timesteps 45.970703125\n",
      "Test Accuracy of the model on the test samples: 82.617\n",
      "tensor(0.1465, grad_fn=<MeanBackward0>)\n",
      "tensor(0.2285, grad_fn=<MeanBackward0>)\n",
      "tensor(10., grad_fn=<MaxBackward1>)\n",
      "tensor(13., grad_fn=<MaxBackward1>)\n"
     ]
    }
   ],
   "source": [
    "snn = ModelLoader(model_16_150_10_name, 'shd_soa_baselines', batch_size, 'cpu')\n",
    "snn.debug = True\n",
    "snn.test(test_loader, dropout = dropout)\n",
    "print(torch.mean(snn.spike_state['f1']))\n",
    "print(torch.mean(snn.spike_state['f2']))\n",
    "print(torch.max(torch.sum(snn.spike_state['f1'], dim=2)))\n",
    "print(torch.max(torch.sum(snn.spike_state['f2'], dim=2)))"
   ]
  },
  {
   "cell_type": "code",
   "execution_count": 33,
   "id": "b93d1d5f-e4cf-4b6f-8f72-ceed86c756bd",
   "metadata": {},
   "outputs": [
    {
     "name": "stdout",
     "output_type": "stream",
     "text": [
      "delays: [0, 15, 30, 45, 60, 75, 90, 105, 120, 135]\n",
      "instance of <class 'my_snn.rsnn_delays.RSNN_d_d'> loaded sucessfully\n",
      "Test Loss: 0.5264933109283447\n",
      "Avg spk_count per neuron for all 250 timesteps 56.32501220703125\n",
      "Test Accuracy of the model on the test samples: 85.742\n",
      "tensor(0.1746, grad_fn=<MeanBackward0>)\n",
      "tensor(0.2718, grad_fn=<MeanBackward0>)\n",
      "tensor(12., grad_fn=<MaxBackward1>)\n",
      "tensor(14., grad_fn=<MaxBackward1>)\n"
     ]
    }
   ],
   "source": [
    "snn = ModelLoader(model_16_150_15_name, 'shd_soa_baselines', batch_size, 'cpu')\n",
    "snn.debug = True\n",
    "snn.test(test_loader, dropout = dropout)\n",
    "print(torch.mean(snn.spike_state['f1']))\n",
    "print(torch.mean(snn.spike_state['f2']))\n",
    "print(torch.max(torch.sum(snn.spike_state['f1'], dim=2)))\n",
    "print(torch.max(torch.sum(snn.spike_state['f2'], dim=2)))"
   ]
  },
  {
   "cell_type": "code",
   "execution_count": 34,
   "id": "b7d0d298-163c-4b8c-a93b-555ff2b8e266",
   "metadata": {},
   "outputs": [],
   "source": [
    " model_16_150_30_name = 'shd250_16x2_d_150_30_fs_84033203125'"
   ]
  },
  {
   "cell_type": "code",
   "execution_count": 35,
   "id": "197c4749-fe8b-44b2-9fa9-82feb2cc15e1",
   "metadata": {},
   "outputs": [
    {
     "name": "stdout",
     "output_type": "stream",
     "text": [
      "delays: [0, 30, 60, 90, 120]\n",
      "instance of <class 'my_snn.rsnn_delays.RSNN_d_d'> loaded sucessfully\n",
      "Test Loss: 0.5184242938246045\n",
      "Avg spk_count per neuron for all 250 timesteps 57.877166748046875\n",
      "Test Accuracy of the model on the test samples: 85.498\n",
      "tensor(0.1927, grad_fn=<MeanBackward0>)\n",
      "tensor(0.2615, grad_fn=<MeanBackward0>)\n",
      "tensor(13., grad_fn=<MaxBackward1>)\n",
      "tensor(13., grad_fn=<MaxBackward1>)\n"
     ]
    }
   ],
   "source": [
    "snn = ModelLoader(model_16_150_30_name, 'shd_soa_baselines', batch_size, 'cpu')\n",
    "snn.debug = True\n",
    "snn.test(test_loader, dropout = dropout)\n",
    "print(torch.mean(snn.spike_state['f1']))\n",
    "print(torch.mean(snn.spike_state['f2']))\n",
    "print(torch.max(torch.sum(snn.spike_state['f1'], dim=2)))\n",
    "print(torch.max(torch.sum(snn.spike_state['f2'], dim=2)))"
   ]
  },
  {
   "cell_type": "code",
   "execution_count": 36,
   "id": "283a272e-787d-4c59-9560-e177c977d109",
   "metadata": {},
   "outputs": [],
   "source": [
    "model_16_151_75_name = 'shd250_16x2_d_151_75_fs_76806640625'\n",
    "model_8_3_name = 'shd250_8x2_d_150_3_fs_8642578125'\n",
    "model_8_15_name = 'shd250_8x2_d_150_15_fs_82177734375'\n",
    "model_8_30_name = 'shd250_8x2_d_150_30_fs_80517578125'\n",
    "model_4_3_name = 'shd250_4x2_d_150_3_fs_77978515625'\n",
    "model_4_15_name = 'shd250_4x2_d_150_15_fs_72607421875'\n",
    "model_4_30_name = 'shd250_4x2_d_150_30_fs_7138671875'"
   ]
  },
  {
   "cell_type": "code",
   "execution_count": 37,
   "id": "9f47a434-04f9-4bc5-93af-37536e594239",
   "metadata": {},
   "outputs": [
    {
     "name": "stdout",
     "output_type": "stream",
     "text": [
      "delays: [0, 75, 150]\n",
      "instance of <class 'my_snn.rsnn_delays.RSNN_d_d'> loaded sucessfully\n",
      "Test Loss: 0.8306070225579398\n",
      "Avg spk_count per neuron for all 250 timesteps 54.70033264160156\n",
      "Test Accuracy of the model on the test samples: 79.004\n",
      "tensor(0.2038, grad_fn=<MeanBackward0>)\n",
      "tensor(0.2358, grad_fn=<MeanBackward0>)\n",
      "tensor(13., grad_fn=<MaxBackward1>)\n",
      "tensor(11., grad_fn=<MaxBackward1>)\n"
     ]
    }
   ],
   "source": [
    "snn = ModelLoader(model_16_151_75_name, 'shd_soa_baselines', batch_size, 'cpu')\n",
    "snn.debug = True\n",
    "snn.test(test_loader, dropout = dropout)\n",
    "print(torch.mean(snn.spike_state['f1']))\n",
    "print(torch.mean(snn.spike_state['f2']))\n",
    "print(torch.max(torch.sum(snn.spike_state['f1'], dim=2)))\n",
    "print(torch.max(torch.sum(snn.spike_state['f2'], dim=2)))"
   ]
  },
  {
   "cell_type": "code",
   "execution_count": 38,
   "id": "d2c2dc57-a8e3-42aa-ae2a-4ba922735e68",
   "metadata": {},
   "outputs": [
    {
     "name": "stdout",
     "output_type": "stream",
     "text": [
      "delays: [0, 3, 6, 9, 12, 15, 18, 21, 24, 27, 30, 33, 36, 39, 42, 45, 48, 51, 54, 57, 60, 63, 66, 69, 72, 75, 78, 81, 84, 87, 90, 93, 96, 99, 102, 105, 108, 111, 114, 117, 120, 123, 126, 129, 132, 135, 138, 141, 144, 147]\n",
      "instance of <class 'my_snn.rsnn_delays.RSNN_d_d'> loaded sucessfully\n",
      "Test Loss: 0.3869746859584536\n",
      "Avg spk_count per neuron for all 250 timesteps 39.20074462890625\n",
      "Test Accuracy of the model on the test samples: 88.916\n",
      "tensor(0.1445, grad_fn=<MeanBackward0>)\n",
      "tensor(0.1728, grad_fn=<MeanBackward0>)\n",
      "tensor(6., grad_fn=<MaxBackward1>)\n",
      "tensor(6., grad_fn=<MaxBackward1>)\n"
     ]
    }
   ],
   "source": [
    "snn = ModelLoader(model_8_3_name, 'shd_soa_baselines', batch_size, 'cpu')\n",
    "snn.debug = True\n",
    "snn.test(test_loader, dropout = dropout)\n",
    "print(torch.mean(snn.spike_state['f1']))\n",
    "print(torch.mean(snn.spike_state['f2']))\n",
    "print(torch.max(torch.sum(snn.spike_state['f1'], dim=2)))\n",
    "print(torch.max(torch.sum(snn.spike_state['f2'], dim=2)))"
   ]
  },
  {
   "cell_type": "code",
   "execution_count": 39,
   "id": "9c440143-80af-458d-b46b-5c890fe4bb4f",
   "metadata": {},
   "outputs": [
    {
     "name": "stdout",
     "output_type": "stream",
     "text": [
      "delays: [0, 15, 30, 45, 60, 75, 90, 105, 120, 135]\n",
      "instance of <class 'my_snn.rsnn_delays.RSNN_d_d'> loaded sucessfully\n",
      "Test Loss: 0.9224762746265956\n",
      "Avg spk_count per neuron for all 250 timesteps 57.1455078125\n",
      "Test Accuracy of the model on the test samples: 80.029\n",
      "tensor(0.2368, grad_fn=<MeanBackward0>)\n",
      "tensor(0.2215, grad_fn=<MeanBackward0>)\n",
      "tensor(7., grad_fn=<MaxBackward1>)\n",
      "tensor(7., grad_fn=<MaxBackward1>)\n"
     ]
    }
   ],
   "source": [
    "snn = ModelLoader(model_8_15_name, 'shd_soa_baselines', batch_size, 'cpu')\n",
    "snn.debug = True\n",
    "snn.test(test_loader, dropout = dropout)\n",
    "print(torch.mean(snn.spike_state['f1']))\n",
    "print(torch.mean(snn.spike_state['f2']))\n",
    "print(torch.max(torch.sum(snn.spike_state['f1'], dim=2)))\n",
    "print(torch.max(torch.sum(snn.spike_state['f2'], dim=2)))"
   ]
  },
  {
   "cell_type": "code",
   "execution_count": 40,
   "id": "f358a3f0-f1f5-4126-90e5-77d816531072",
   "metadata": {},
   "outputs": [
    {
     "name": "stdout",
     "output_type": "stream",
     "text": [
      "delays: [0, 30, 60, 90, 120]\n",
      "instance of <class 'my_snn.rsnn_delays.RSNN_d_d'> loaded sucessfully\n",
      "Test Loss: 0.8390882781573704\n",
      "Avg spk_count per neuron for all 250 timesteps 66.3585205078125\n",
      "Test Accuracy of the model on the test samples: 80.859\n",
      "tensor(0.2107, grad_fn=<MeanBackward0>)\n",
      "tensor(0.3174, grad_fn=<MeanBackward0>)\n",
      "tensor(7., grad_fn=<MaxBackward1>)\n",
      "tensor(8., grad_fn=<MaxBackward1>)\n"
     ]
    }
   ],
   "source": [
    "snn = ModelLoader(model_8_30_name, 'shd_soa_baselines', batch_size, 'cpu')\n",
    "snn.debug = True\n",
    "snn.test(test_loader, dropout = dropout)\n",
    "print(torch.mean(snn.spike_state['f1']))\n",
    "print(torch.mean(snn.spike_state['f2']))\n",
    "print(torch.max(torch.sum(snn.spike_state['f1'], dim=2)))\n",
    "print(torch.max(torch.sum(snn.spike_state['f2'], dim=2)))"
   ]
  },
  {
   "cell_type": "code",
   "execution_count": 41,
   "id": "cb41cb0f-d19d-46d3-8ac1-52d777b00129",
   "metadata": {},
   "outputs": [
    {
     "name": "stdout",
     "output_type": "stream",
     "text": [
      "delays: [0, 3, 6, 9, 12, 15, 18, 21, 24, 27, 30, 33, 36, 39, 42, 45, 48, 51, 54, 57, 60, 63, 66, 69, 72, 75, 78, 81, 84, 87, 90, 93, 96, 99, 102, 105, 108, 111, 114, 117, 120, 123, 126, 129, 132, 135, 138, 141, 144, 147]\n",
      "instance of <class 'my_snn.rsnn_delays.RSNN_d_d'> loaded sucessfully\n",
      "Test Loss: 0.8469859957695007\n",
      "Avg spk_count per neuron for all 250 timesteps 58.44549560546875\n",
      "Test Accuracy of the model on the test samples: 77.490\n",
      "tensor(0.2154, grad_fn=<MeanBackward0>)\n",
      "tensor(0.2534, grad_fn=<MeanBackward0>)\n",
      "tensor(4., grad_fn=<MaxBackward1>)\n",
      "tensor(4., grad_fn=<MaxBackward1>)\n"
     ]
    }
   ],
   "source": [
    "snn = ModelLoader(model_4_3_name, 'shd_soa_baselines', batch_size, 'cpu')\n",
    "snn.debug = True\n",
    "snn.test(test_loader, dropout = dropout)\n",
    "print(torch.mean(snn.spike_state['f1']))\n",
    "print(torch.mean(snn.spike_state['f2']))\n",
    "print(torch.max(torch.sum(snn.spike_state['f1'], dim=2)))\n",
    "print(torch.max(torch.sum(snn.spike_state['f2'], dim=2)))"
   ]
  },
  {
   "cell_type": "code",
   "execution_count": 42,
   "id": "54edbd2f-0f9e-4e61-8d7f-a459552c02ab",
   "metadata": {},
   "outputs": [
    {
     "name": "stdout",
     "output_type": "stream",
     "text": [
      "delays: [0, 15, 30, 45, 60, 75, 90, 105, 120, 135]\n",
      "instance of <class 'my_snn.rsnn_delays.RSNN_d_d'> loaded sucessfully\n",
      "Test Loss: 1.0410591449056352\n",
      "Avg spk_count per neuron for all 250 timesteps 65.45989990234375\n",
      "Test Accuracy of the model on the test samples: 72.900\n",
      "tensor(0.2510, grad_fn=<MeanBackward0>)\n",
      "tensor(0.2744, grad_fn=<MeanBackward0>)\n",
      "tensor(4., grad_fn=<MaxBackward1>)\n",
      "tensor(4., grad_fn=<MaxBackward1>)\n"
     ]
    }
   ],
   "source": [
    "snn = ModelLoader(model_4_15_name, 'shd_soa_baselines', batch_size, 'cpu')\n",
    "snn.debug = True\n",
    "snn.test(test_loader, dropout = dropout)\n",
    "print(torch.mean(snn.spike_state['f1']))\n",
    "print(torch.mean(snn.spike_state['f2']))\n",
    "print(torch.max(torch.sum(snn.spike_state['f1'], dim=2)))\n",
    "print(torch.max(torch.sum(snn.spike_state['f2'], dim=2)))"
   ]
  },
  {
   "cell_type": "code",
   "execution_count": 43,
   "id": "ed49a631-63a0-4f8a-981e-989aa226b398",
   "metadata": {},
   "outputs": [
    {
     "name": "stdout",
     "output_type": "stream",
     "text": [
      "delays: [0, 30, 60, 90, 120]\n",
      "instance of <class 'my_snn.rsnn_delays.RSNN_d_d'> loaded sucessfully\n",
      "Test Loss: 1.0091987252235413\n",
      "Avg spk_count per neuron for all 250 timesteps 64.2197265625\n",
      "Test Accuracy of the model on the test samples: 72.803\n",
      "tensor(0.2294, grad_fn=<MeanBackward0>)\n",
      "tensor(0.2870, grad_fn=<MeanBackward0>)\n",
      "tensor(4., grad_fn=<MaxBackward1>)\n",
      "tensor(4., grad_fn=<MaxBackward1>)\n"
     ]
    }
   ],
   "source": [
    "snn = ModelLoader(model_4_30_name, 'shd_soa_baselines', batch_size, 'cpu')\n",
    "snn.debug = True\n",
    "snn.test(test_loader, dropout = dropout)\n",
    "print(torch.mean(snn.spike_state['f1']))\n",
    "print(torch.mean(snn.spike_state['f2']))\n",
    "print(torch.max(torch.sum(snn.spike_state['f1'], dim=2)))\n",
    "print(torch.max(torch.sum(snn.spike_state['f2'], dim=2)))"
   ]
  },
  {
   "cell_type": "code",
   "execution_count": null,
   "id": "8cb4d6ba-b96c-45eb-96a7-70478da6e637",
   "metadata": {},
   "outputs": [],
   "source": []
  }
 ],
 "metadata": {
  "kernelspec": {
   "display_name": "Python 3",
   "language": "python",
   "name": "python3"
  },
  "language_info": {
   "codemirror_mode": {
    "name": "ipython",
    "version": 3
   },
   "file_extension": ".py",
   "mimetype": "text/x-python",
   "name": "python",
   "nbconvert_exporter": "python",
   "pygments_lexer": "ipython3",
   "version": "3.6.13"
  }
 },
 "nbformat": 4,
 "nbformat_minor": 5
}
