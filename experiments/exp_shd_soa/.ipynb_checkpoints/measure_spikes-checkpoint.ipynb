{
 "cells": [
  {
   "cell_type": "code",
   "execution_count": 1,
   "id": "87d8643a-5809-4d7f-8b26-0727f9339d91",
   "metadata": {},
   "outputs": [],
   "source": [
    "#from my_snn.rsnn import RSNN, RSNN_2l, RSNN_2l_ALIF\n",
    "from my_snn.rsnn_delays import RSNN_d_d, RSNN_d_i, RSNN_d_all\n",
    "from my_snn.tonic_dataloader import DatasetLoader\n",
    "from my_snn.utils import train, training_plots, ModelLoader\n",
    "import torch\n",
    "device = \"cuda:0\"\n",
    "\n",
    "import matplotlib.pyplot as  plt\n",
    "\n",
    "time_window = 250\n",
    "batch_size = 256\n",
    "dataset = 'shd'\n",
    "\n",
    "DL = DatasetLoader(dataset=dataset, caching='disk', num_workers=0, batch_size=batch_size, time_window=time_window)\n",
    "test_loader, train_loader = DL.get_dataloaders()\n",
    "\n",
    "ckpt_dir = 'barridos_shd'\n",
    "\n",
    "data = test_loader, train_loader\n",
    "\n",
    "dropout = 0.2\n",
    "\n",
    "import numpy as np\n",
    "def test_fn(snn, ckpt_dir, test_loader, ma, epoch):\n",
    "    if (epoch + 1) % 5 == 0:\n",
    "        snn.test(test_loader, dropout=dropout)\n",
    "        last_acc = np.array(snn.acc)[-1,1]\n",
    "        max_acc = np.max(np.array(snn.acc)[:,1])\n",
    "        if last_acc == max_acc:\n",
    "            print(f'saving max acc: {max_acc}')\n",
    "            snn.save_model(snn.modelname+'_'+ ''.join(str(np.array(snn.acc)[-1,1]).split('.')) , ckpt_dir)\n",
    "            "
   ]
  },
  {
   "cell_type": "code",
   "execution_count": 2,
   "id": "95d2c986-d765-4def-93e5-a8c894ab5043",
   "metadata": {},
   "outputs": [],
   "source": [
    "model_150_3_name = 'shd250_128x2_d_150_3_fs_8671875'\n",
    "model_150_6_name = 'shd250_128x2_d_150_6_fs_89453125'"
   ]
  },
  {
   "cell_type": "code",
   "execution_count": 3,
   "id": "053115cc-b992-49c0-b031-71a03f775019",
   "metadata": {},
   "outputs": [
    {
     "name": "stderr",
     "output_type": "stream",
     "text": [
      "C:\\Users\\saucedo\\anaconda3\\envs\\deeplearnig\\lib\\site-packages\\torch\\serialization.py:658: SourceChangeWarning: source code of class 'my_snn.rsnn_delays.RSNN_d_d' has changed. you can retrieve the original source code by accessing the object's source attribute or set `torch.nn.Module.dump_patches = True` and use the patch tool to revert the changes.\n",
      "  warnings.warn(msg, SourceChangeWarning)\n"
     ]
    },
    {
     "name": "stdout",
     "output_type": "stream",
     "text": [
      "delays: [0, 3, 6, 9, 12, 15, 18, 21, 24, 27, 30, 33, 36, 39, 42, 45, 48, 51, 54, 57, 60, 63, 66, 69, 72, 75, 78, 81, 84, 87, 90, 93, 96, 99, 102, 105, 108, 111, 114, 117, 120, 123, 126, 129, 132, 135, 138, 141, 144, 147]\n",
      "instance of <class 'my_snn.rsnn_delays.RSNN_d_d'> loaded sucessfully\n",
      "Test Loss: 0.5586932280233928\n",
      "Avg spk_count per neuron for all 250 timesteps 5.707180023193359\n",
      "Test Accuracy of the model on the test samples: 88.428\n"
     ]
    }
   ],
   "source": [
    "snn = ModelLoader(model_150_3_name, 'shd_soa_baselines', batch_size, 'cuda:0')\n",
    "snn.debug = True\n",
    "snn.test(test_loader, dropout = dropout)\n"
   ]
  }
 ],
 "metadata": {
  "kernelspec": {
   "display_name": "Python 3",
   "language": "python",
   "name": "python3"
  },
  "language_info": {
   "codemirror_mode": {
    "name": "ipython",
    "version": 3
   },
   "file_extension": ".py",
   "mimetype": "text/x-python",
   "name": "python",
   "nbconvert_exporter": "python",
   "pygments_lexer": "ipython3",
   "version": "3.6.13"
  }
 },
 "nbformat": 4,
 "nbformat_minor": 5
}
