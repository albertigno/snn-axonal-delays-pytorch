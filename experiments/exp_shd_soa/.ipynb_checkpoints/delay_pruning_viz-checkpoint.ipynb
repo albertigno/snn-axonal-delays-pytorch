{
 "cells": [
  {
   "cell_type": "code",
   "execution_count": null,
   "id": "41637516",
   "metadata": {},
   "outputs": [],
   "source": [
    "snn_base = ModelLoader('shd250_32x2_d_150_3_fs_88330078125', ckpt_dir, batch_size, 'cuda:0')\n",
    "\n",
    "\n",
    "fig, (ax1, ax2, ax3, ax4) = plt.subplots(figsize=(20, 15), ncols=4)\n",
    "snn_d50.plot(snn_base.f1_o.weight.reshape(128,50), mode='matrix', ax=ax1)\n",
    "snn_d50.plot(snn_pool_10.f1_o.weight.reshape(128,50), mode='matrix', ax=ax2)\n",
    "snn_d50.plot(snn_pool_5.f1_o.weight.reshape(128,50), mode='matrix', ax=ax3)\n",
    "snn_d50.plot(snn_pool_1.f1_o.weight.reshape(128,50), mode='matrix', ax=ax4)\n",
    "ax1.set_title('base (50) delays')\n",
    "ax2.set_title('10 delays')\n",
    "ax3.set_title('5 delays')\n",
    "ax4.set_title('1 delay per synapse')"
   ]
  }
 ],
 "metadata": {
  "kernelspec": {
   "display_name": "Python 3 (ipykernel)",
   "language": "python",
   "name": "python3"
  },
  "language_info": {
   "codemirror_mode": {
    "name": "ipython",
    "version": 3
   },
   "file_extension": ".py",
   "mimetype": "text/x-python",
   "name": "python",
   "nbconvert_exporter": "python",
   "pygments_lexer": "ipython3",
   "version": "3.10.4"
  }
 },
 "nbformat": 4,
 "nbformat_minor": 5
}
