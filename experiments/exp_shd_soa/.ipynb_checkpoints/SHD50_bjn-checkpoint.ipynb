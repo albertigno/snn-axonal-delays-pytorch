{
 "cells": [
  {
   "cell_type": "code",
   "execution_count": 1,
   "id": "9f342117-c466-404d-9a03-5bb61f77a0ca",
   "metadata": {},
   "outputs": [
    {
     "name": "stdout",
     "output_type": "stream",
     "text": [
      "Running on: cuda:0\n"
     ]
    }
   ],
   "source": [
    "from IPython.display import clear_output\n",
    "import torch\n",
    "from my_snn.rsnn import *\n",
    "from my_snn.rsnn_delays import RSNN_d_d\n",
    "from my_snn.utils import train\n",
    "from my_snn.tonic_dataloader import DatasetLoader\n",
    "device = torch.device(\"cuda:0\" if torch.cuda.is_available() else \"cpu\")\n",
    "print ('Running on: {}'.format(device))"
   ]
  },
  {
   "cell_type": "markdown",
   "id": "2d7260d4-416a-4f7e-9b4e-d0bb74ba8a39",
   "metadata": {},
   "source": [
    "## SHD50"
   ]
  },
  {
   "cell_type": "code",
   "execution_count": 2,
   "id": "7b4117d0-29a4-4757-8e2d-957ace060143",
   "metadata": {},
   "outputs": [],
   "source": [
    "dataset = 'shd'\n",
    "time_window = 50\n",
    "batch_size = 256 # lr=1e-4\n",
    "#batch_size = 128 # lr=1e-4\n",
    "DL = DatasetLoader(dataset=dataset, caching='memory', num_workers=0, batch_size=batch_size, time_window=time_window)\n",
    "data = DL.get_dataloaders()\n",
    "ckpt_dir = 'other-tests'"
   ]
  },
  {
   "cell_type": "code",
   "execution_count": 4,
   "id": "9da7b03b-ae25-49e5-98d6-5d59766e40d3",
   "metadata": {
    "collapsed": true,
    "jupyter": {
     "outputs_hidden": true
    },
    "tags": []
   },
   "outputs": [
    {
     "name": "stdout",
     "output_type": "stream",
     "text": [
      "RSNN_2l_ALIF(\n",
      "  (criterion): CrossEntropyLoss()\n",
      "  (fc_ih): Linear(in_features=700, out_features=128, bias=False)\n",
      "  (fc_h1h1): Linear(in_features=128, out_features=128, bias=False)\n",
      "  (fc_h1h2): Linear(in_features=128, out_features=128, bias=False)\n",
      "  (fc_h2h2): Linear(in_features=128, out_features=128, bias=False)\n",
      "  (fc_ho): Linear(in_features=128, out_features=20, bias=False)\n",
      ")\n",
      "Total params: 141312\n",
      "Total mult-adds (M): 7.0656\n",
      "training shd50_RSNN_2l_ALIF_128.t7 for 50 epochs...\n",
      "Epoch [1/50]\n",
      "Time elasped: 7.554006099700928\n",
      "Epoch [2/50]\n",
      "Time elasped: 7.699467420578003\n",
      "Epoch [3/50]\n",
      "Time elasped: 7.703923463821411\n",
      "Epoch [4/50]\n",
      "Time elasped: 7.618574857711792\n",
      "Epoch [5/50]\n",
      "Time elasped: 7.6635284423828125\n",
      "Test Loss: 8.758369962102734\n",
      "Avg spk_count per neuron for all 50 timesteps 4.972318649291992\n",
      "Test Accuracy of the model on the test samples: 74.854\n",
      "Saving max acc model\n",
      "Epoch [6/50]\n",
      "Time elasped: 7.630022764205933\n",
      "Epoch [7/50]\n",
      "Time elasped: 7.75056529045105\n",
      "Epoch [8/50]\n",
      "Time elasped: 7.643003225326538\n",
      "Epoch [9/50]\n",
      "Time elasped: 7.779299736022949\n",
      "Epoch [10/50]\n",
      "Time elasped: 7.52802586555481\n",
      "Test Loss: 6.260248766668762\n",
      "Avg spk_count per neuron for all 50 timesteps 5.017263412475586\n",
      "Test Accuracy of the model on the test samples: 82.471\n",
      "Saving max acc model\n",
      "Epoch [11/50]\n",
      "Time elasped: 7.637075424194336\n",
      "Epoch [12/50]\n",
      "Time elasped: 7.671011447906494\n",
      "Epoch [13/50]\n",
      "Time elasped: 7.617015838623047\n",
      "Epoch [14/50]\n",
      "Time elasped: 7.5119688510894775\n",
      "Epoch [15/50]\n",
      "Time elasped: 7.6596291065216064\n",
      "Test Loss: 7.236419102177024\n",
      "Avg spk_count per neuron for all 50 timesteps 5.178195953369141\n",
      "Test Accuracy of the model on the test samples: 82.666\n",
      "Saving max acc model\n",
      "Epoch [16/50]\n",
      "Time elasped: 7.628065586090088\n",
      "Epoch [17/50]\n",
      "Time elasped: 7.641534090042114\n",
      "Epoch [18/50]\n",
      "Time elasped: 7.6390297412872314\n",
      "Epoch [19/50]\n",
      "Time elasped: 7.57882285118103\n",
      "Epoch [20/50]\n",
      "Time elasped: 7.600573778152466\n",
      "Test Loss: 9.35979400963212\n",
      "Avg spk_count per neuron for all 50 timesteps 5.246219635009766\n",
      "Test Accuracy of the model on the test samples: 79.932\n",
      "Epoch [21/50]\n",
      "Time elasped: 7.532796382904053\n",
      "Epoch [22/50]\n",
      "Time elasped: 7.633620262145996\n",
      "Epoch [23/50]\n",
      "Time elasped: 7.636507987976074\n",
      "Epoch [24/50]\n",
      "Time elasped: 7.706998109817505\n",
      "Epoch [25/50]\n",
      "Time elasped: 7.5410380363464355\n",
      "Test Loss: 9.77194946744324\n",
      "Avg spk_count per neuron for all 50 timesteps 5.498374938964844\n",
      "Test Accuracy of the model on the test samples: 80.518\n",
      "Epoch [26/50]\n",
      "Time elasped: 7.8612306118011475\n",
      "Epoch [27/50]\n",
      "Time elasped: 7.6880269050598145\n",
      "Epoch [28/50]\n",
      "Time elasped: 7.741745948791504\n",
      "Epoch [29/50]\n",
      "Time elasped: 7.62324333190918\n",
      "Epoch [30/50]\n",
      "Time elasped: 7.64812445640564\n",
      "Test Loss: 7.767582646687515\n",
      "Avg spk_count per neuron for all 50 timesteps 5.57896614074707\n",
      "Test Accuracy of the model on the test samples: 84.180\n",
      "Saving max acc model\n",
      "Epoch [31/50]\n",
      "Time elasped: 7.618584632873535\n",
      "Epoch [32/50]\n",
      "Time elasped: 7.5570244789123535\n",
      "Epoch [33/50]\n",
      "Time elasped: 7.687911510467529\n",
      "Epoch [34/50]\n",
      "Time elasped: 7.632535219192505\n",
      "Epoch [35/50]\n",
      "Time elasped: 7.5660130977630615\n",
      "Test Loss: 8.242785698889444\n",
      "Avg spk_count per neuron for all 50 timesteps 5.504539489746094\n",
      "Test Accuracy of the model on the test samples: 82.422\n",
      "Epoch [36/50]\n",
      "Time elasped: 7.6525633335113525\n",
      "Epoch [37/50]\n",
      "Time elasped: 7.550459623336792\n",
      "Epoch [38/50]\n",
      "Time elasped: 7.507516622543335\n",
      "Epoch [39/50]\n",
      "Time elasped: 7.614574432373047\n",
      "Epoch [40/50]\n",
      "Time elasped: 7.54707670211792\n",
      "Test Loss: 7.6262384385724244\n",
      "Avg spk_count per neuron for all 50 timesteps 5.581825256347656\n",
      "Test Accuracy of the model on the test samples: 84.131\n",
      "Epoch [41/50]\n",
      "Time elasped: 7.636711359024048\n",
      "Epoch [42/50]\n",
      "Time elasped: 7.695102691650391\n",
      "Epoch [43/50]\n",
      "Time elasped: 7.717402696609497\n",
      "Epoch [44/50]\n",
      "Time elasped: 7.6553730964660645\n",
      "Epoch [45/50]\n",
      "Time elasped: 7.689263582229614\n",
      "Test Loss: 8.629729129296416\n",
      "Avg spk_count per neuron for all 50 timesteps 5.677589416503906\n",
      "Test Accuracy of the model on the test samples: 83.936\n",
      "Epoch [46/50]\n",
      "Time elasped: 7.697319507598877\n",
      "Epoch [47/50]\n",
      "Time elasped: 7.583999872207642\n",
      "Epoch [48/50]\n",
      "Time elasped: 7.558556795120239\n",
      "Epoch [49/50]\n",
      "Time elasped: 7.733041524887085\n",
      "Epoch [50/50]\n",
      "Time elasped: 7.61217188835144\n",
      "Test Loss: 8.422219223420447\n",
      "Avg spk_count per neuron for all 50 timesteps 5.6762542724609375\n",
      "Test Accuracy of the model on the test samples: 84.277\n",
      "Saving max acc model\n"
     ]
    }
   ],
   "source": [
    "# training configuration\n",
    "\n",
    "num_hidden = 128\n",
    "snn = RSNN_2l_ALIF(dataset, num_hidden=num_hidden, thresh=0.3, tau_m='adp', win=time_window, surr='mg', loss_fn ='mot', batch_size=256, device=device)\n",
    "snn.to(device)\n",
    "train(snn, data, 1e-2, 50, ckpt_dir=ckpt_dir)"
   ]
  },
  {
   "cell_type": "code",
   "execution_count": 4,
   "id": "f7b71966-20f0-467e-b4a0-e2e3dd3f5d22",
   "metadata": {
    "collapsed": true,
    "jupyter": {
     "outputs_hidden": true
    },
    "tags": []
   },
   "outputs": [
    {
     "name": "stdout",
     "output_type": "stream",
     "text": [
      "delays: [0, 2, 4, 6, 8, 10, 12, 14, 16, 18, 20, 22, 24, 26, 28]\n",
      "RSNN_d_d(\n",
      "  (criterion): CrossEntropyLoss()\n",
      "  (f0_i): Linear(in_features=700, out_features=64, bias=False)\n",
      "  (f1_f2): Linear(in_features=960, out_features=64, bias=False)\n",
      "  (f2_o): Linear(in_features=960, out_features=20, bias=False)\n",
      ")\n",
      "Total params: 125440\n",
      "Total mult-adds (M): 6.272\n",
      "training shd50_RSNN_d_d_2l64_30d2.t7 for 50 epochs...\n",
      "Epoch [1/50]\n",
      "Time elasped: 8.240038871765137\n",
      "Epoch [2/50]\n",
      "Time elasped: 8.266013145446777\n",
      "Epoch [3/50]\n",
      "Time elasped: 8.46205186843872\n",
      "Epoch [4/50]\n",
      "Time elasped: 8.238076210021973\n",
      "Epoch [5/50]\n",
      "Time elasped: 8.038582801818848\n",
      "Test Loss: 7.545661482300299\n",
      "Avg spk_count per neuron for all 50 timesteps 9.644649505615234\n",
      "Test Accuracy of the model on the test samples: 79.150\n",
      "Saving max acc model\n",
      "Epoch [6/50]\n",
      "Time elasped: 8.102076768875122\n",
      "Epoch [7/50]\n",
      "Time elasped: 8.129023551940918\n",
      "Epoch [8/50]\n",
      "Time elasped: 8.145505905151367\n",
      "Epoch [9/50]\n",
      "Time elasped: 8.294034242630005\n",
      "Epoch [10/50]\n",
      "Time elasped: 8.370052337646484\n",
      "Test Loss: 5.527343071667322\n",
      "Avg spk_count per neuron for all 50 timesteps 9.654438018798828\n",
      "Test Accuracy of the model on the test samples: 84.229\n",
      "Saving max acc model\n",
      "Epoch [11/50]\n",
      "Time elasped: 8.217595100402832\n",
      "Epoch [12/50]\n",
      "Time elasped: 8.11301875114441\n",
      "Epoch [13/50]\n",
      "Time elasped: 8.076797246932983\n",
      "Epoch [14/50]\n",
      "Time elasped: 8.100011825561523\n",
      "Epoch [15/50]\n",
      "Time elasped: 8.126054286956787\n",
      "Test Loss: 7.587367380852811\n",
      "Avg spk_count per neuron for all 50 timesteps 9.863773345947266\n",
      "Test Accuracy of the model on the test samples: 82.373\n",
      "Epoch [16/50]\n",
      "Time elasped: 8.130524635314941\n",
      "Epoch [17/50]\n",
      "Time elasped: 8.049547672271729\n",
      "Epoch [18/50]\n",
      "Time elasped: 7.982073783874512\n",
      "Epoch [19/50]\n",
      "Time elasped: 8.099031686782837\n",
      "Epoch [20/50]\n",
      "Time elasped: 8.071774244308472\n",
      "Test Loss: 8.47804457259675\n",
      "Avg spk_count per neuron for all 50 timesteps 9.741058349609375\n",
      "Test Accuracy of the model on the test samples: 83.398\n",
      "Epoch [21/50]\n",
      "Time elasped: 8.295020818710327\n",
      "Epoch [22/50]\n",
      "Time elasped: 8.167206048965454\n",
      "Epoch [23/50]\n",
      "Time elasped: 8.195074319839478\n",
      "Epoch [24/50]\n",
      "Time elasped: 8.29201626777649\n",
      "Epoch [25/50]\n",
      "Time elasped: 8.123037338256836\n",
      "Test Loss: 10.197086815683482\n",
      "Avg spk_count per neuron for all 50 timesteps 9.96337890625\n",
      "Test Accuracy of the model on the test samples: 81.152\n",
      "Epoch [26/50]\n",
      "Time elasped: 8.043999910354614\n",
      "Epoch [27/50]\n",
      "Time elasped: 8.137524127960205\n",
      "Epoch [28/50]\n",
      "Time elasped: 8.11055588722229\n",
      "Epoch [29/50]\n",
      "Time elasped: 8.062101602554321\n",
      "Epoch [30/50]\n",
      "Time elasped: 8.058000326156616\n",
      "Test Loss: 8.938229250799244\n",
      "Avg spk_count per neuron for all 50 timesteps 9.566238403320312\n",
      "Test Accuracy of the model on the test samples: 81.104\n",
      "Epoch [31/50]\n",
      "Time elasped: 8.060710191726685\n",
      "Epoch [32/50]\n",
      "Time elasped: 8.224048376083374\n",
      "Epoch [33/50]\n",
      "Time elasped: 8.299437999725342\n",
      "Epoch [34/50]\n",
      "Time elasped: 8.339083194732666\n",
      "Epoch [35/50]\n",
      "Time elasped: 8.171562910079956\n",
      "Test Loss: 9.921671442027824\n",
      "Avg spk_count per neuron for all 50 timesteps 9.830272674560547\n",
      "Test Accuracy of the model on the test samples: 81.934\n",
      "Epoch [36/50]\n",
      "Time elasped: 8.084607124328613\n",
      "Epoch [37/50]\n",
      "Time elasped: 8.099300146102905\n",
      "Epoch [38/50]\n",
      "Time elasped: 8.065033435821533\n",
      "Epoch [39/50]\n",
      "Time elasped: 8.118530035018921\n",
      "Epoch [40/50]\n",
      "Time elasped: 8.128533601760864\n",
      "Test Loss: 9.735345459504364\n",
      "Avg spk_count per neuron for all 50 timesteps 9.827205657958984\n",
      "Test Accuracy of the model on the test samples: 81.738\n",
      "Epoch [41/50]\n",
      "Time elasped: 8.035019397735596\n",
      "Epoch [42/50]\n",
      "Time elasped: 8.126680850982666\n",
      "Epoch [43/50]\n",
      "Time elasped: 8.115528106689453\n",
      "Epoch [44/50]\n",
      "Time elasped: 8.166028261184692\n",
      "Epoch [45/50]\n",
      "Time elasped: 8.213050127029419\n",
      "Test Loss: 10.142798521827595\n",
      "Avg spk_count per neuron for all 50 timesteps 9.849567413330078\n",
      "Test Accuracy of the model on the test samples: 81.787\n",
      "Epoch [46/50]\n",
      "Time elasped: 8.236553192138672\n",
      "Epoch [47/50]\n",
      "Time elasped: 8.117533922195435\n",
      "Epoch [48/50]\n",
      "Time elasped: 8.059571027755737\n",
      "Epoch [49/50]\n",
      "Time elasped: 8.087559938430786\n",
      "Epoch [50/50]\n",
      "Time elasped: 8.082008600234985\n",
      "Test Loss: 10.254566876993826\n",
      "Avg spk_count per neuron for all 50 timesteps 9.87668228149414\n",
      "Test Accuracy of the model on the test samples: 82.861\n"
     ]
    }
   ],
   "source": [
    "hidden = (64, 2, 'f')\n",
    "snn = RSNN_d_d(dataset, hidden=hidden, delay =(30,2), thresh=0.3, tau_m='adp', win=time_window, surr='mg',  loss_fn ='mot', batch_size=256, device=device)\n",
    "snn.to(device)\n",
    "train(snn, data, 1e-2, 50, ckpt_dir=ckpt_dir)"
   ]
  },
  {
   "cell_type": "code",
   "execution_count": 3,
   "id": "741d0549-6dff-446e-bacb-9a697bece3d1",
   "metadata": {
    "tags": []
   },
   "outputs": [
    {
     "name": "stdout",
     "output_type": "stream",
     "text": [
      "delays: [0, 2, 4, 6, 8, 10, 12, 14, 16, 18, 20, 22, 24, 26, 28]\n",
      "RSNN_d_d(\n",
      "  (criterion): MSELoss()\n",
      "  (f0_i): Linear(in_features=700, out_features=64, bias=False)\n",
      "  (f1_f2): Linear(in_features=960, out_features=64, bias=False)\n",
      "  (f2_o): Linear(in_features=960, out_features=20, bias=False)\n",
      ")\n",
      "Total params: 125440\n",
      "Total mult-adds (M): 6.272\n",
      "training shd50_RSNN_d_d_2l64_30d2.t7 for 50 epochs...\n",
      "Epoch [1/50]\n",
      "Time elasped: 39.98556995391846\n",
      "Epoch [2/50]\n",
      "Time elasped: 7.76391339302063\n",
      "Epoch [3/50]\n",
      "Time elasped: 6.701538324356079\n",
      "Epoch [4/50]\n",
      "Time elasped: 6.6510701179504395\n",
      "Epoch [5/50]\n",
      "Time elasped: 6.500036001205444\n",
      "Test Loss: 0.21940418289159425\n",
      "Avg spk_count per neuron for all 50 timesteps 5.569801330566406\n",
      "Test Accuracy of the model on the test samples: 78.369\n",
      "Saving max acc model\n",
      "Epoch [6/50]\n",
      "Time elasped: 6.65251898765564\n",
      "Epoch [7/50]\n",
      "Time elasped: 6.414997339248657\n",
      "Epoch [8/50]\n",
      "Time elasped: 6.547508239746094\n",
      "Epoch [9/50]\n",
      "Time elasped: 6.474002122879028\n",
      "Epoch [10/50]\n",
      "Time elasped: 6.384028434753418\n",
      "Test Loss: 0.1771813833699222\n",
      "Avg spk_count per neuron for all 50 timesteps 6.151287078857422\n",
      "Test Accuracy of the model on the test samples: 83.301\n",
      "Saving max acc model\n",
      "Epoch [11/50]\n"
     ]
    },
    {
     "ename": "KeyboardInterrupt",
     "evalue": "",
     "output_type": "error",
     "traceback": [
      "\u001b[1;31m---------------------------------------------------------------------------\u001b[0m",
      "\u001b[1;31mKeyboardInterrupt\u001b[0m                         Traceback (most recent call last)",
      "\u001b[1;32m<ipython-input-3-312cadfa6086>\u001b[0m in \u001b[0;36m<module>\u001b[1;34m\u001b[0m\n\u001b[0;32m      2\u001b[0m \u001b[0msnn\u001b[0m \u001b[1;33m=\u001b[0m \u001b[0mRSNN_d_d\u001b[0m\u001b[1;33m(\u001b[0m\u001b[0mdataset\u001b[0m\u001b[1;33m,\u001b[0m \u001b[0mhidden\u001b[0m\u001b[1;33m=\u001b[0m\u001b[0mhidden\u001b[0m\u001b[1;33m,\u001b[0m \u001b[0mdelay\u001b[0m \u001b[1;33m=\u001b[0m\u001b[1;33m(\u001b[0m\u001b[1;36m30\u001b[0m\u001b[1;33m,\u001b[0m\u001b[1;36m2\u001b[0m\u001b[1;33m)\u001b[0m\u001b[1;33m,\u001b[0m \u001b[0mthresh\u001b[0m\u001b[1;33m=\u001b[0m\u001b[1;36m0.3\u001b[0m\u001b[1;33m,\u001b[0m \u001b[0mtau_m\u001b[0m\u001b[1;33m=\u001b[0m\u001b[1;34m'adp'\u001b[0m\u001b[1;33m,\u001b[0m \u001b[0mwin\u001b[0m\u001b[1;33m=\u001b[0m\u001b[0mtime_window\u001b[0m\u001b[1;33m,\u001b[0m \u001b[0msurr\u001b[0m\u001b[1;33m=\u001b[0m\u001b[1;34m'step'\u001b[0m\u001b[1;33m,\u001b[0m  \u001b[0mloss_fn\u001b[0m \u001b[1;33m=\u001b[0m\u001b[1;34m'sum'\u001b[0m\u001b[1;33m,\u001b[0m \u001b[0mbatch_size\u001b[0m\u001b[1;33m=\u001b[0m\u001b[1;36m256\u001b[0m\u001b[1;33m,\u001b[0m \u001b[0mdevice\u001b[0m\u001b[1;33m=\u001b[0m\u001b[0mdevice\u001b[0m\u001b[1;33m)\u001b[0m\u001b[1;33m\u001b[0m\u001b[1;33m\u001b[0m\u001b[0m\n\u001b[0;32m      3\u001b[0m \u001b[0msnn\u001b[0m\u001b[1;33m.\u001b[0m\u001b[0mto\u001b[0m\u001b[1;33m(\u001b[0m\u001b[0mdevice\u001b[0m\u001b[1;33m)\u001b[0m\u001b[1;33m\u001b[0m\u001b[1;33m\u001b[0m\u001b[0m\n\u001b[1;32m----> 4\u001b[1;33m \u001b[0mtrain\u001b[0m\u001b[1;33m(\u001b[0m\u001b[0msnn\u001b[0m\u001b[1;33m,\u001b[0m \u001b[0mdata\u001b[0m\u001b[1;33m,\u001b[0m \u001b[1;36m1e-3\u001b[0m\u001b[1;33m,\u001b[0m \u001b[1;36m50\u001b[0m\u001b[1;33m,\u001b[0m \u001b[0mckpt_dir\u001b[0m\u001b[1;33m=\u001b[0m\u001b[0mckpt_dir\u001b[0m\u001b[1;33m,\u001b[0m \u001b[0mlr_scale\u001b[0m \u001b[1;33m=\u001b[0m \u001b[1;33m(\u001b[0m\u001b[1;36m1.0\u001b[0m\u001b[1;33m,\u001b[0m \u001b[1;36m1.0\u001b[0m\u001b[1;33m)\u001b[0m\u001b[1;33m)\u001b[0m \u001b[1;31m# old configuration\u001b[0m\u001b[1;33m\u001b[0m\u001b[1;33m\u001b[0m\u001b[0m\n\u001b[0m",
      "\u001b[1;32m~\\Python\\SRNN_tests\\my_snn\\utils.py\u001b[0m in \u001b[0;36mtrain\u001b[1;34m(snn, data, learning_rate, num_epochs, spkreg, l1_reg, dropout, lr_scale, ckpt_dir)\u001b[0m\n\u001b[0;32m     68\u001b[0m         \u001b[0mprint\u001b[0m\u001b[1;33m(\u001b[0m\u001b[1;34m'Epoch [%d/%d]'\u001b[0m  \u001b[1;33m%\u001b[0m \u001b[1;33m(\u001b[0m\u001b[0mepoch\u001b[0m \u001b[1;33m+\u001b[0m \u001b[1;36m1\u001b[0m\u001b[1;33m,\u001b[0m \u001b[0mnum_epochs\u001b[0m\u001b[1;33m)\u001b[0m\u001b[1;33m)\u001b[0m\u001b[1;33m\u001b[0m\u001b[1;33m\u001b[0m\u001b[0m\n\u001b[0;32m     69\u001b[0m         \u001b[0mstart_time\u001b[0m \u001b[1;33m=\u001b[0m \u001b[0mtime\u001b[0m\u001b[1;33m.\u001b[0m\u001b[0mtime\u001b[0m\u001b[1;33m(\u001b[0m\u001b[1;33m)\u001b[0m\u001b[1;33m\u001b[0m\u001b[1;33m\u001b[0m\u001b[0m\n\u001b[1;32m---> 70\u001b[1;33m         \u001b[0msnn\u001b[0m\u001b[1;33m.\u001b[0m\u001b[0mtrain_step\u001b[0m\u001b[1;33m(\u001b[0m\u001b[0mtrain_loader\u001b[0m\u001b[1;33m,\u001b[0m \u001b[0moptimizer\u001b[0m\u001b[1;33m=\u001b[0m\u001b[0moptimizer\u001b[0m\u001b[1;33m,\u001b[0m \u001b[0mspkreg\u001b[0m\u001b[1;33m=\u001b[0m\u001b[0mspkreg\u001b[0m\u001b[1;33m,\u001b[0m \u001b[0ml1_reg\u001b[0m\u001b[1;33m=\u001b[0m\u001b[0ml1_reg\u001b[0m\u001b[1;33m,\u001b[0m \u001b[0mdropout\u001b[0m\u001b[1;33m=\u001b[0m\u001b[0mdropout\u001b[0m\u001b[1;33m)\u001b[0m\u001b[1;33m\u001b[0m\u001b[1;33m\u001b[0m\u001b[0m\n\u001b[0m\u001b[0;32m     71\u001b[0m         \u001b[0mt\u001b[0m \u001b[1;33m=\u001b[0m  \u001b[0mtime\u001b[0m\u001b[1;33m.\u001b[0m\u001b[0mtime\u001b[0m\u001b[1;33m(\u001b[0m\u001b[1;33m)\u001b[0m \u001b[1;33m-\u001b[0m \u001b[0mstart_time\u001b[0m\u001b[1;33m\u001b[0m\u001b[1;33m\u001b[0m\u001b[0m\n\u001b[0;32m     72\u001b[0m         \u001b[0mprint\u001b[0m\u001b[1;33m(\u001b[0m\u001b[1;34m'Time elasped:'\u001b[0m\u001b[1;33m,\u001b[0m \u001b[0mt\u001b[0m\u001b[1;33m)\u001b[0m\u001b[1;33m\u001b[0m\u001b[1;33m\u001b[0m\u001b[0m\n",
      "\u001b[1;32m~\\Python\\SRNN_tests\\my_snn\\abstract_rsnn.py\u001b[0m in \u001b[0;36mtrain_step\u001b[1;34m(self, train_loader, optimizer, spkreg, l1_reg, dropout)\u001b[0m\n\u001b[0;32m    144\u001b[0m             \u001b[0mtotal_loss_train\u001b[0m \u001b[1;33m+=\u001b[0m \u001b[0mloss\u001b[0m\u001b[1;33m.\u001b[0m\u001b[0mdetach\u001b[0m\u001b[1;33m(\u001b[0m\u001b[1;33m)\u001b[0m\u001b[1;33m.\u001b[0m\u001b[0mitem\u001b[0m\u001b[1;33m(\u001b[0m\u001b[1;33m)\u001b[0m\u001b[1;33m\u001b[0m\u001b[1;33m\u001b[0m\u001b[0m\n\u001b[0;32m    145\u001b[0m             \u001b[0mtotal\u001b[0m \u001b[1;33m+=\u001b[0m \u001b[0mlabels\u001b[0m\u001b[1;33m.\u001b[0m\u001b[0msize\u001b[0m\u001b[1;33m(\u001b[0m\u001b[1;36m0\u001b[0m\u001b[1;33m)\u001b[0m\u001b[1;33m\u001b[0m\u001b[1;33m\u001b[0m\u001b[0m\n\u001b[1;32m--> 146\u001b[1;33m             \u001b[0mloss\u001b[0m\u001b[1;33m.\u001b[0m\u001b[0mbackward\u001b[0m\u001b[1;33m(\u001b[0m\u001b[1;33m)\u001b[0m\u001b[1;33m\u001b[0m\u001b[1;33m\u001b[0m\u001b[0m\n\u001b[0m\u001b[0;32m    147\u001b[0m \u001b[1;33m\u001b[0m\u001b[0m\n\u001b[0;32m    148\u001b[0m             \u001b[0moptimizer\u001b[0m\u001b[1;33m.\u001b[0m\u001b[0mstep\u001b[0m\u001b[1;33m(\u001b[0m\u001b[1;33m)\u001b[0m\u001b[1;33m\u001b[0m\u001b[1;33m\u001b[0m\u001b[0m\n",
      "\u001b[1;32m~\\anaconda3\\envs\\deeplearnig\\lib\\site-packages\\torch\\tensor.py\u001b[0m in \u001b[0;36mbackward\u001b[1;34m(self, gradient, retain_graph, create_graph)\u001b[0m\n\u001b[0;32m    219\u001b[0m                 \u001b[0mretain_graph\u001b[0m\u001b[1;33m=\u001b[0m\u001b[0mretain_graph\u001b[0m\u001b[1;33m,\u001b[0m\u001b[1;33m\u001b[0m\u001b[1;33m\u001b[0m\u001b[0m\n\u001b[0;32m    220\u001b[0m                 create_graph=create_graph)\n\u001b[1;32m--> 221\u001b[1;33m         \u001b[0mtorch\u001b[0m\u001b[1;33m.\u001b[0m\u001b[0mautograd\u001b[0m\u001b[1;33m.\u001b[0m\u001b[0mbackward\u001b[0m\u001b[1;33m(\u001b[0m\u001b[0mself\u001b[0m\u001b[1;33m,\u001b[0m \u001b[0mgradient\u001b[0m\u001b[1;33m,\u001b[0m \u001b[0mretain_graph\u001b[0m\u001b[1;33m,\u001b[0m \u001b[0mcreate_graph\u001b[0m\u001b[1;33m)\u001b[0m\u001b[1;33m\u001b[0m\u001b[1;33m\u001b[0m\u001b[0m\n\u001b[0m\u001b[0;32m    222\u001b[0m \u001b[1;33m\u001b[0m\u001b[0m\n\u001b[0;32m    223\u001b[0m     \u001b[1;32mdef\u001b[0m \u001b[0mregister_hook\u001b[0m\u001b[1;33m(\u001b[0m\u001b[0mself\u001b[0m\u001b[1;33m,\u001b[0m \u001b[0mhook\u001b[0m\u001b[1;33m)\u001b[0m\u001b[1;33m:\u001b[0m\u001b[1;33m\u001b[0m\u001b[1;33m\u001b[0m\u001b[0m\n",
      "\u001b[1;32m~\\anaconda3\\envs\\deeplearnig\\lib\\site-packages\\torch\\autograd\\__init__.py\u001b[0m in \u001b[0;36mbackward\u001b[1;34m(tensors, grad_tensors, retain_graph, create_graph, grad_variables)\u001b[0m\n\u001b[0;32m    130\u001b[0m     Variable._execution_engine.run_backward(\n\u001b[0;32m    131\u001b[0m         \u001b[0mtensors\u001b[0m\u001b[1;33m,\u001b[0m \u001b[0mgrad_tensors_\u001b[0m\u001b[1;33m,\u001b[0m \u001b[0mretain_graph\u001b[0m\u001b[1;33m,\u001b[0m \u001b[0mcreate_graph\u001b[0m\u001b[1;33m,\u001b[0m\u001b[1;33m\u001b[0m\u001b[1;33m\u001b[0m\u001b[0m\n\u001b[1;32m--> 132\u001b[1;33m         allow_unreachable=True)  # allow_unreachable flag\n\u001b[0m\u001b[0;32m    133\u001b[0m \u001b[1;33m\u001b[0m\u001b[0m\n\u001b[0;32m    134\u001b[0m \u001b[1;33m\u001b[0m\u001b[0m\n",
      "\u001b[1;31mKeyboardInterrupt\u001b[0m: "
     ]
    }
   ],
   "source": [
    "hidden = (64, 2, 'f')\n",
    "snn = RSNN_d_d(dataset, hidden=hidden, delay =(30,2), thresh=0.3, tau_m='adp', win=time_window, surr='step',  loss_fn ='sum', batch_size=256, device=device)\n",
    "snn.to(device)\n",
    "train(snn, data, 1e-3, 50, ckpt_dir=ckpt_dir, lr_scale = (1.0, 1.0)) # old configuration"
   ]
  },
  {
   "cell_type": "code",
   "execution_count": 4,
   "id": "916a0425-77cb-4cf6-b9c6-999f75576ad4",
   "metadata": {},
   "outputs": [
    {
     "name": "stderr",
     "output_type": "stream",
     "text": [
      "No handles with labels found to put in legend.\n",
      "No handles with labels found to put in legend.\n"
     ]
    },
    {
     "data": {
      "image/png": "[encoded data removed]",
      "text/plain": [
       "<Figure size 432x288 with 1 Axes>"
      ]
     },
     "metadata": {
      "needs_background": "light"
     },
     "output_type": "display_data"
    },
    {
     "data": {
      "image/png": "[encoded data removed]",
      "text/plain": [
       "<Figure size 432x288 with 1 Axes>"
      ]
     },
     "metadata": {
      "needs_background": "light"
     },
     "output_type": "display_data"
    }
   ],
   "source": [
    "snn.plot_per_epoch(snn.acc)\n",
    "snn.plot_per_epoch(snn.train_loss)"
   ]
  },
  {
   "cell_type": "code",
   "execution_count": 15,
   "id": "7637298a-b120-4a47-bd85-acffa9484fbe",
   "metadata": {},
   "outputs": [
    {
     "data": {
      "image/png": "[encoded data removed]",
      "text/plain": [
       "<Figure size 432x288 with 1 Axes>"
      ]
     },
     "metadata": {
      "needs_background": "light"
     },
     "output_type": "display_data"
    },
    {
     "data": {
      "image/png": "[encoded data removed]",
      "text/plain": [
       "<Figure size 432x288 with 1 Axes>"
      ]
     },
     "metadata": {
      "needs_background": "light"
     },
     "output_type": "display_data"
    }
   ],
   "source": [
    "import matplotlib.pyplot as plt \n",
    "fig, ax = plt.subplots()\n",
    "ax = snn.plot_loss()"
   ]
  },
  {
   "cell_type": "code",
   "execution_count": 53,
   "id": "a1ed80e1-222e-490b-a9c4-66ebce12181c",
   "metadata": {},
   "outputs": [],
   "source": [
    "import numpy as np\n",
    "def plot_per_epoch(data, ax=None, label=''):\n",
    "    '''\n",
    "    data is either snn.train_loss, snn.test_loss, snn.acc, snn.test_spk_count\n",
    "    '''\n",
    "    if ax is None:\n",
    "        ax = plt.gca() # get current axis\n",
    "    data = np.array(data)\n",
    "    ax.plot(data[:, 0], data[:, 1], label=label)\n",
    "    ax.set_xlabel('epoch')\n",
    "    ax.legend()\n",
    "    return ax"
   ]
  },
  {
   "cell_type": "code",
   "execution_count": 55,
   "id": "fe0930a5-7bfa-4865-a3f4-51ffdc8edabf",
   "metadata": {},
   "outputs": [
    {
     "name": "stderr",
     "output_type": "stream",
     "text": [
      "No handles with labels found to put in legend.\n"
     ]
    },
    {
     "data": {
      "image/png": "[encoded data removed]",
      "text/plain": [
       "<Figure size 432x288 with 2 Axes>"
      ]
     },
     "metadata": {
      "needs_background": "light"
     },
     "output_type": "display_data"
    }
   ],
   "source": [
    "import matplotlib.pyplot as plt \n",
    "fig, (ax1, ax2) = plt.subplots(1,2)\n",
    "ax1 = plot_per_epoch(snn.train_loss)"
   ]
  },
  {
   "cell_type": "code",
   "execution_count": 37,
   "id": "d10bdafe-5151-4153-903b-4d7e284ecdc0",
   "metadata": {},
   "outputs": [
    {
     "data": {
      "image/png": "[encoded data removed]",
      "text/plain": [
       "<Figure size 432x288 with 2 Axes>"
      ]
     },
     "metadata": {
      "needs_background": "light"
     },
     "output_type": "display_data"
    }
   ],
   "source": [
    "import matplotlib.pyplot as plt \n",
    "fig, (ax, ax2) = plt.subplots(1, 2)\n"
   ]
  },
  {
   "cell_type": "code",
   "execution_count": null,
   "id": "1224f29b-0695-42f2-bc20-85ae91663cf6",
   "metadata": {},
   "outputs": [],
   "source": [
    "snn.plot_loss()\n",
    "snn.test_spk_count"
   ]
  },
  {
   "cell_type": "code",
   "execution_count": null,
   "id": "66f94c8e-0a60-4ec2-8bd5-6d98be6bfda4",
   "metadata": {},
   "outputs": [],
   "source": []
  },
  {
   "cell_type": "code",
   "execution_count": 13,
   "id": "735aa810-4c88-4c4f-9577-e36fefac239e",
   "metadata": {},
   "outputs": [
    {
     "data": {
      "text/plain": [
       "[[5, 83.49609375],\n",
       " [10, 83.49609375],\n",
       " [15, 85.3515625],\n",
       " [20, 85.15625],\n",
       " [25, 84.1796875],\n",
       " [30, 83.30078125],\n",
       " [35, 82.763671875],\n",
       " [40, 82.6171875],\n",
       " [45, 81.884765625],\n",
       " [50, 81.201171875]]"
      ]
     },
     "execution_count": 13,
     "metadata": {},
     "output_type": "execute_result"
    }
   ],
   "source": [
    "snn.acc"
   ]
  },
  {
   "cell_type": "code",
   "execution_count": 14,
   "id": "84b73877-6449-4f3e-af01-4ecb0c6e39db",
   "metadata": {},
   "outputs": [
    {
     "data": {
      "text/plain": [
       "[[5, 7.04589883753215e-05],\n",
       " [10, 6.35166943538934e-05],\n",
       " [15, 6.008793161527137e-05],\n",
       " [20, 6.069797791496967e-05],\n",
       " [25, 6.182209290273022e-05],\n",
       " [30, 6.379844808179769e-05],\n",
       " [35, 6.478355453509721e-05],\n",
       " [40, 6.551464502990711e-05],\n",
       " [45, 6.594894603040302e-05],\n",
       " [50, 6.636120087932795e-05]]"
      ]
     },
     "execution_count": 14,
     "metadata": {},
     "output_type": "execute_result"
    }
   ],
   "source": [
    "snn.test_loss"
   ]
  },
  {
   "cell_type": "code",
   "execution_count": 15,
   "id": "69de8ea0-79a9-4ec5-8810-8a7b1f7f6a76",
   "metadata": {},
   "outputs": [
    {
     "data": {
      "text/plain": [
       "[[1, 0.0001696309285058129],\n",
       " [2, 0.00011834523437785045],\n",
       " [3, 8.81846799823125e-05],\n",
       " [4, 7.138056929350921e-05],\n",
       " [5, 6.138708598765305e-05],\n",
       " [6, 5.469375537359156e-05],\n",
       " [7, 4.961588473956762e-05],\n",
       " [8, 4.590801895134181e-05],\n",
       " [9, 4.300755866889601e-05],\n",
       " [10, 3.991711245391578e-05],\n",
       " [11, 3.756680680746814e-05],\n",
       " [12, 3.557991505893428e-05],\n",
       " [13, 3.470699413165059e-05],\n",
       " [14, 3.272532024223643e-05],\n",
       " [15, 3.1663052375792646e-05],\n",
       " [16, 3.070445599141456e-05],\n",
       " [17, 2.9583180871521754e-05],\n",
       " [18, 2.8543623733229096e-05],\n",
       " [19, 2.7044069229891795e-05],\n",
       " [20, 2.6114424643662547e-05],\n",
       " [21, 2.5985611207415198e-05],\n",
       " [22, 2.4203375012861685e-05],\n",
       " [23, 2.361878602729825e-05],\n",
       " [24, 2.3366730367284148e-05],\n",
       " [25, 2.2634062441929635e-05],\n",
       " [26, 2.2212014124717472e-05],\n",
       " [27, 2.134176118547217e-05],\n",
       " [28, 2.0968423116080943e-05],\n",
       " [29, 2.0962437291370493e-05],\n",
       " [30, 2.0072662840492184e-05],\n",
       " [31, 1.9673562248147304e-05],\n",
       " [32, 1.9164814030744075e-05],\n",
       " [33, 1.89460131350056e-05],\n",
       " [34, 1.8480639658763165e-05],\n",
       " [35, 1.850991705601524e-05],\n",
       " [36, 1.8079431972564046e-05],\n",
       " [37, 1.7655080110642068e-05],\n",
       " [38, 1.7357375914035665e-05],\n",
       " [39, 1.7185837702615367e-05],\n",
       " [40, 1.689315467956476e-05],\n",
       " [41, 1.670379805868687e-05],\n",
       " [42, 1.6529109474973785e-05],\n",
       " [43, 1.6216117200524275e-05],\n",
       " [44, 1.593812204749068e-05],\n",
       " [45, 1.585123546617744e-05],\n",
       " [46, 1.5765717234312285e-05],\n",
       " [47, 1.548068303236505e-05],\n",
       " [48, 1.5349486984045904e-05],\n",
       " [49, 1.509041237201722e-05],\n",
       " [50, 1.5000798978895369e-05]]"
      ]
     },
     "execution_count": 15,
     "metadata": {},
     "output_type": "execute_result"
    }
   ],
   "source": [
    "snn.train_loss"
   ]
  },
  {
   "cell_type": "code",
   "execution_count": 31,
   "id": "1dabd4a6-d8dc-4419-abfa-2e0bc0489e79",
   "metadata": {
    "tags": []
   },
   "outputs": [
    {
     "data": {
      "image/png": "[encoded data removed]",
      "text/plain": [
       "<Figure size 432x288 with 1 Axes>"
      ]
     },
     "metadata": {
      "needs_background": "light"
     },
     "output_type": "display_data"
    },
    {
     "data": {
      "image/png": "[encoded data removed]",
      "text/plain": [
       "<Figure size 432x288 with 1 Axes>"
      ]
     },
     "metadata": {
      "needs_background": "light"
     },
     "output_type": "display_data"
    }
   ],
   "source": [
    "import matplotlib.pyplot as plt\n",
    "print(snn.test_spk_count)\n",
    "snn.plot_loss()\n",
    "clear_output()\n",
    "plt.show()\n",
    "snn.plot_loss()\n",
    "#clear_output()\n",
    "plt.show()"
   ]
  },
  {
   "cell_type": "markdown",
   "id": "90ec9f96-f11a-4272-8c34-09a5cf948a4c",
   "metadata": {},
   "source": [
    "## SHD250"
   ]
  },
  {
   "cell_type": "code",
   "execution_count": 9,
   "id": "e59b784e-3449-4678-aaa7-cef0bedb1f84",
   "metadata": {},
   "outputs": [],
   "source": [
    "time_window = 250\n",
    "batch_size = 256 # lr=1e-4\n",
    "#batch_size = 128 # lr=1e-4\n",
    "DL = DatasetLoader(dataset=dataset, caching='memory', num_workers=0, batch_size=batch_size, time_window=time_window)\n",
    "data = DL.get_dataloaders()\n",
    "ckpt_dir = 'other-tests250'"
   ]
  },
  {
   "cell_type": "code",
   "execution_count": null,
   "id": "f0777fbe-e1a0-4289-869d-6cdd2e41a3c4",
   "metadata": {},
   "outputs": [],
   "source": [
    "hidden = (64, 2, 'f')\n",
    "snn = RSNN_d_d(dataset, hidden=hidden, delay =(30,2), thresh=0.3, tau_m='adp', win=time_window, surr='step',  loss_fn ='sum', batch_size=256, device=device)\n",
    "snn.to(device)\n",
    "train(snn, data, 1e-3, 50, ckpt_dir=ckpt_dir, lr_scale = (1.0, 1.0)) # old configuration"
   ]
  }
 ],
 "metadata": {
  "kernelspec": {
   "display_name": "Python 3",
   "language": "python",
   "name": "python3"
  },
  "language_info": {
   "codemirror_mode": {
    "name": "ipython",
    "version": 3
   },
   "file_extension": ".py",
   "mimetype": "text/x-python",
   "name": "python",
   "nbconvert_exporter": "python",
   "pygments_lexer": "ipython3",
   "version": "3.6.13"
  }
 },
 "nbformat": 4,
 "nbformat_minor": 5
}
