{
 "cells": [
  {
   "cell_type": "code",
   "execution_count": 1,
   "id": "6813331e",
   "metadata": {},
   "outputs": [
    {
     "name": "stderr",
     "output_type": "stream",
     "text": [
      "D:\\RESEARCHERS\\Alberto\\Anaconda3\\envs\\deeplearning\\lib\\site-packages\\tqdm\\auto.py:22: TqdmWarning: IProgress not found. Please update jupyter and ipywidgets. See https://ipywidgets.readthedocs.io/en/stable/user_install.html\n",
      "  from .autonotebook import tqdm as notebook_tqdm\n"
     ]
    }
   ],
   "source": [
    "#from my_snn.rsnn import RSNN, RSNN_2l, RSNN_2l_ALIF\n",
    "from my_snn.rsnn_delays import RSNN_d_d, RSNN_d_i, RSNN_d_all\n",
    "from my_snn.tonic_dataloader import DatasetLoader\n",
    "from my_snn.utils import train, training_plots, ModelLoader\n",
    "import torch\n",
    "device = \"cuda:0\"\n",
    "\n",
    "import matplotlib.pyplot as  plt\n",
    "\n",
    "time_window = 250\n",
    "batch_size = 256\n",
    "dataset = 'shd'\n",
    "\n",
    "DL = DatasetLoader(dataset=dataset, caching='disk', num_workers=0, batch_size=batch_size, time_window=time_window)\n",
    "test_loader, train_loader = DL.get_dataloaders()\n",
    "\n",
    "ckpt_dir = 'shd_soa_tests'\n",
    "\n",
    "data = test_loader, train_loader\n",
    "\n",
    "dropout = 0.2\n",
    "\n",
    "import numpy as np\n",
    "def test_fn(snn, ckpt_dir, test_loader, ma, epoch):\n",
    "    if (epoch + 1) % 5 == 0:\n",
    "        snn.test(test_loader, dropout=dropout)\n",
    "        last_acc = np.array(snn.acc)[-1,1]\n",
    "        max_acc = np.max(np.array(snn.acc)[:,1])\n",
    "        if last_acc == max_acc:\n",
    "            print(f'saving max acc: {max_acc}')\n",
    "            snn.save_model(snn.modelname+'_'+ ''.join(str(np.array(snn.acc)[-1,1]).split('.')) , ckpt_dir)"
   ]
  },
  {
   "cell_type": "code",
   "execution_count": 5,
   "id": "6e420f7f",
   "metadata": {},
   "outputs": [
    {
     "name": "stdout",
     "output_type": "stream",
     "text": [
      "delays: [0, 3, 6, 9, 12, 15, 18, 21, 24, 27, 30, 33, 36, 39, 42, 45, 48, 51, 54, 57, 60, 63, 66, 69, 72, 75, 78, 81, 84, 87, 90, 93, 96, 99, 102, 105, 108, 111, 114, 117, 120, 123, 126, 129, 132, 135, 138, 141, 144, 147]\n",
      "instance of <class 'my_snn.rsnn_delays.RSNN_d_d'> loaded sucessfully\n",
      "Test Loss: 0.755962461233139\n",
      "Avg spk_count per neuron for all 250 timesteps 22.93730926513672\n",
      "Test Accuracy of the model on the test samples: 88.184\n"
     ]
    }
   ],
   "source": [
    "model_150_3_name = 'shd250_32x2_d_150_3_fs_88330078125'\n",
    "model_150_6_name = 'shd250_32x2_d_150_6_fs_8681640625'\n",
    "\n",
    "snn = ModelLoader(model_150_3_name, ckpt_dir, batch_size, device)\n",
    "snn.test(test_loader, dropout = dropout)\n",
    "torch.cuda.empty_cache() "
   ]
  },
  {
   "cell_type": "code",
   "execution_count": null,
   "id": "9c542b1a",
   "metadata": {},
   "outputs": [],
   "source": [
    "for name in [model_150_3_name, model_150_6_name]:\n",
    "    for k in [1, 5, 10, 15, 20]:\n",
    "        snn_pooled = ModelLoader(name, ckpt_dir, batch_size, 'cuda:0')\n",
    "        snn_pooled.pool_delays('ho', k=k)\n",
    "        snn_pooled.test(test_loader, dropout = dropout)\n",
    "        snn_pooled.train_loss = []\n",
    "        snn_pooled.test_loss = []\n",
    "        snn_pooled.acc = []\n",
    "        snn_pooled.modelname = f'shd250_32x2_d_150_6_fs_pooled_{k}'\n",
    "        train(snn_pooled, data, 1e-3, 50, dropout=0.2, lr_scale=(5.0, 2.0), ckpt_dir=ckpt_dir, test_fn=test_fn, scheduler=(10, 0.95))\n",
    "        torch.cuda.empty_cache()         "
   ]
  }
 ],
 "metadata": {
  "kernelspec": {
   "display_name": "Python 3 (ipykernel)",
   "language": "python",
   "name": "python3"
  },
  "language_info": {
   "codemirror_mode": {
    "name": "ipython",
    "version": 3
   },
   "file_extension": ".py",
   "mimetype": "text/x-python",
   "name": "python",
   "nbconvert_exporter": "python",
   "pygments_lexer": "ipython3",
   "version": "3.10.4"
  }
 },
 "nbformat": 4,
 "nbformat_minor": 5
}
