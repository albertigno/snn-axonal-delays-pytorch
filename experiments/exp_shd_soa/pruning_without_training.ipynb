{
 "cells": [
  {
   "cell_type": "code",
   "execution_count": 1,
   "id": "5b929253-87bd-42ac-b0e7-026704328a3d",
   "metadata": {},
   "outputs": [
    {
     "name": "stderr",
     "output_type": "stream",
     "text": [
      "C:\\Users\\Alberto\\anaconda3\\envs\\deeplearning\\lib\\site-packages\\tqdm\\auto.py:22: TqdmWarning: IProgress not found. Please update jupyter and ipywidgets. See https://ipywidgets.readthedocs.io/en/stable/user_install.html\n",
      "  from .autonotebook import tqdm as notebook_tqdm\n"
     ]
    }
   ],
   "source": [
    "#from my_snn.rsnn import RSNN, RSNN_2l, RSNN_2l_ALIF\n",
    "from my_snn.rsnn_delays import RSNN_d_d, RSNN_d_i, RSNN_d_all\n",
    "from my_snn.tonic_dataloader import DatasetLoader\n",
    "from my_snn.utils import train, training_plots, ModelLoader\n",
    "import torch\n",
    "device = \"cuda:0\"\n",
    "\n",
    "import matplotlib.pyplot as  plt\n",
    "\n",
    "time_window = 250\n",
    "batch_size = 256\n",
    "dataset = 'shd'\n",
    "\n",
    "DL = DatasetLoader(dataset=dataset, caching='disk', num_workers=0, batch_size=batch_size, time_window=time_window)\n",
    "test_loader, train_loader = DL.get_dataloaders()\n",
    "\n",
    "ckpt_dir = 'barridos_shd'\n",
    "\n",
    "data = test_loader, train_loader\n",
    "\n",
    "dropout = 0.2\n",
    "\n",
    "import numpy as np\n",
    "\n",
    "            "
   ]
  },
  {
   "cell_type": "code",
   "execution_count": 7,
   "id": "597001e0-3edb-4cea-9626-b7136308263c",
   "metadata": {},
   "outputs": [
    {
     "name": "stdout",
     "output_type": "stream",
     "text": [
      "delays: [0, 6, 12, 18, 24, 30, 36, 42, 48, 54, 60, 66, 72, 78, 84, 90, 96, 102, 108, 114, 120, 126, 132, 138, 144]\n",
      "instance of <class 'my_snn.rsnn_delays.RSNN_d_d'> loaded sucessfully\n",
      "Test Loss: 3.2299138137272427\n",
      "Avg spk_count per neuron for all 250 timesteps 2.957073211669922\n",
      "Test Accuracy of the model on the test samples: 19.092\n",
      "delays: [0, 6, 12, 18, 24, 30, 36, 42, 48, 54, 60, 66, 72, 78, 84, 90, 96, 102, 108, 114, 120, 126, 132, 138, 144]\n",
      "instance of <class 'my_snn.rsnn_delays.RSNN_d_d'> loaded sucessfully\n",
      "Test Loss: 1.2843376057488578\n",
      "Avg spk_count per neuron for all 250 timesteps 5.32252311706543\n",
      "Test Accuracy of the model on the test samples: 62.842\n",
      "delays: [0, 6, 12, 18, 24, 30, 36, 42, 48, 54, 60, 66, 72, 78, 84, 90, 96, 102, 108, 114, 120, 126, 132, 138, 144]\n",
      "instance of <class 'my_snn.rsnn_delays.RSNN_d_d'> loaded sucessfully\n",
      "Test Loss: 0.5210770453725543\n",
      "Avg spk_count per neuron for all 250 timesteps 7.006505966186523\n",
      "Test Accuracy of the model on the test samples: 85.645\n",
      "delays: [0, 6, 12, 18, 24, 30, 36, 42, 48, 54, 60, 66, 72, 78, 84, 90, 96, 102, 108, 114, 120, 126, 132, 138, 144]\n",
      "instance of <class 'my_snn.rsnn_delays.RSNN_d_d'> loaded sucessfully\n",
      "Test Loss: 0.4230892275060926\n",
      "Avg spk_count per neuron for all 250 timesteps 7.895854949951172\n",
      "Test Accuracy of the model on the test samples: 90.430\n",
      "delays: [0, 6, 12, 18, 24, 30, 36, 42, 48, 54, 60, 66, 72, 78, 84, 90, 96, 102, 108, 114, 120, 126, 132, 138, 144]\n",
      "instance of <class 'my_snn.rsnn_delays.RSNN_d_d'> loaded sucessfully\n",
      "Test Loss: 0.5474420189857483\n",
      "Avg spk_count per neuron for all 250 timesteps 8.292285919189453\n",
      "Test Accuracy of the model on the test samples: 89.648\n",
      "delays: [0, 6, 12, 18, 24, 30, 36, 42, 48, 54, 60, 66, 72, 78, 84, 90, 96, 102, 108, 114, 120, 126, 132, 138, 144]\n",
      "instance of <class 'my_snn.rsnn_delays.RSNN_d_d'> loaded sucessfully\n",
      "Test Loss: 0.5951094159058162\n",
      "Avg spk_count per neuron for all 250 timesteps 8.330312728881836\n",
      "Test Accuracy of the model on the test samples: 89.600\n"
     ]
    }
   ],
   "source": [
    "#name = 'shd250_32x2_d_150_3_fs_88330078125'\n",
    "#name = 'shd250_32x2_d_150_6_fs_8681640625'\n",
    "#name = 'shd250_48x2_d_150_3_fs_90087890625'\n",
    "#name = 'shd250_48x2_d_150_6_fs_9052734375'\n",
    "#name = 'shd250_64x2_d_150_3_fs_8984375'\n",
    "#name = 'shd250_64x2_d_150_6_fs_89013671875'\n",
    "#name = 'shd250_128x2_d_150_3_fs_8671875'\n",
    "name = 'shd250_128x2_d_150_6_fs_89453125'\n",
    "\n",
    "accs = []\n",
    "pr = [1, 5, 10, 15, 20, 25]\n",
    "#pr = [1, 5, 10, 15, 20, 50]\n",
    "for k in pr:\n",
    "    snn_pooled = ModelLoader(name, 'shd_soa_baselines', batch_size, 'cuda:0')\n",
    "    snn_pooled.epoch = 999\n",
    "    snn_pooled.pool_delays('ho', k=k)\n",
    "    snn_pooled.test(test_loader, dropout = dropout)  \n",
    "    accs.append(snn_pooled.acc[-1][1])"
   ]
  },
  {
   "cell_type": "code",
   "execution_count": 16,
   "id": "2f1885fa-a957-49c4-8d17-06470ed79563",
   "metadata": {},
   "outputs": [
    {
     "data": {
      "text/plain": [
       "[<matplotlib.lines.Line2D at 0x2261e36ff40>]"
      ]
     },
     "execution_count": 16,
     "metadata": {},
     "output_type": "execute_result"
    },
    {
     "data": {
      "image/png": "[encoded data removed]",
      "text/plain": [
       "<Figure size 640x480 with 1 Axes>"
      ]
     },
     "metadata": {},
     "output_type": "display_data"
    }
   ],
   "source": [
    "plt.plot(pr, accs)"
   ]
  },
  {
   "cell_type": "code",
   "execution_count": null,
   "id": "def2c0e0-add4-4066-8c0a-fa8f435cff4c",
   "metadata": {},
   "outputs": [],
   "source": []
  }
 ],
 "metadata": {
  "kernelspec": {
   "display_name": "Python 3 (ipykernel)",
   "language": "python",
   "name": "python3"
  },
  "language_info": {
   "codemirror_mode": {
    "name": "ipython",
    "version": 3
   },
   "file_extension": ".py",
   "mimetype": "text/x-python",
   "name": "python",
   "nbconvert_exporter": "python",
   "pygments_lexer": "ipython3",
   "version": "3.8.0"
  }
 },
 "nbformat": 4,
 "nbformat_minor": 5
}
