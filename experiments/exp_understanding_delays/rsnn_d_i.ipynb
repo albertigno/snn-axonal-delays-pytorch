{
 "cells": [
  {
   "cell_type": "code",
   "execution_count": 3,
   "id": "6d92a0f7-3018-4cd2-8638-bcd4375144ee",
   "metadata": {},
   "outputs": [
    {
     "name": "stdout",
     "output_type": "stream",
     "text": [
      "Running on: cuda:0\n"
     ]
    }
   ],
   "source": [
    "from IPython.display import clear_output\n",
    "import torch\n",
    "from my_snn.rsnn import *\n",
    "from my_snn.rsnn_delays import RSNN_d_d,RSNN_d_i\n",
    "from my_snn.utils import train, training_plots, ModelLoader\n",
    "from my_snn.tonic_dataloader import DatasetLoader\n",
    "import matplotlib.pyplot as plt \n",
    "device = torch.device(\"cuda:0\" if torch.cuda.is_available() else \"cpu\")\n",
    "print ('Running on: {}'.format(device))\n",
    "\n",
    "dataset = 'shd'\n",
    "time_window = 50\n",
    "batch_size = 256 # lr=1e-4\n",
    "#batch_size = 128 # lr=1e-4\n",
    "DL = DatasetLoader(dataset=dataset, caching='memory', num_workers=0, batch_size=batch_size, time_window=time_window)\n",
    "data = DL.get_dataloaders()\n",
    "ckpt_dir = 'l1_tests'\n",
    "test_loader, train_loader = data "
   ]
  },
  {
   "cell_type": "code",
   "execution_count": 4,
   "id": "837f99a2-b5ee-40ac-abdc-21f7fe13d07f",
   "metadata": {},
   "outputs": [
    {
     "name": "stdout",
     "output_type": "stream",
     "text": [
      "delays: [0, 2, 4, 6, 8, 10, 12, 14, 16, 18, 20, 22, 24, 26, 28]\n",
      "RSNN_d_i(\n",
      "  (criterion): CrossEntropyLoss()\n",
      "  (f0_i): Linear(in_features=10500, out_features=64, bias=False)\n",
      "  (f1_f2): Linear(in_features=64, out_features=64, bias=False)\n",
      "  (f2_o): Linear(in_features=64, out_features=20, bias=False)\n",
      ")\n",
      "Total params: 677376\n",
      "Total mult-adds (M): 33.8688\n",
      "training shd50_RSNN_d_i_2l64_30d2.t7 for 50 epochs...\n",
      "Epoch [1/50]\n",
      "Time elasped: 43.32345724105835\n",
      "Epoch [2/50]\n",
      "Time elasped: 7.294525384902954\n",
      "Epoch [3/50]\n",
      "Time elasped: 6.012514114379883\n",
      "Epoch [4/50]\n",
      "Time elasped: 6.409074306488037\n",
      "Epoch [5/50]\n",
      "Time elasped: 6.471510171890259\n",
      "Test Loss: 0.8593758940696716\n",
      "Avg spk_count per neuron for all 50 timesteps 17.917430877685547\n",
      "Test Accuracy of the model on the test samples: 76.904\n",
      "Epoch [6/50]\n",
      "Time elasped: 5.846510887145996\n",
      "Epoch [7/50]\n",
      "Time elasped: 5.79400110244751\n",
      "Epoch [8/50]\n",
      "Time elasped: 5.982512712478638\n",
      "Epoch [9/50]\n",
      "Step [20/31], Loss: 1.94261\r"
     ]
    },
    {
     "ename": "KeyboardInterrupt",
     "evalue": "",
     "output_type": "error",
     "traceback": [
      "\u001b[1;31m---------------------------------------------------------------------------\u001b[0m",
      "\u001b[1;31mKeyboardInterrupt\u001b[0m                         Traceback (most recent call last)",
      "\u001b[1;32m<ipython-input-4-1713266f32d5>\u001b[0m in \u001b[0;36m<module>\u001b[1;34m\u001b[0m\n\u001b[0;32m      2\u001b[0m \u001b[0msnn\u001b[0m \u001b[1;33m=\u001b[0m \u001b[0mRSNN_d_i\u001b[0m\u001b[1;33m(\u001b[0m\u001b[0mdataset\u001b[0m\u001b[1;33m,\u001b[0m \u001b[0mhidden\u001b[0m\u001b[1;33m=\u001b[0m\u001b[0mhidden\u001b[0m\u001b[1;33m,\u001b[0m \u001b[0mdelay\u001b[0m \u001b[1;33m=\u001b[0m \u001b[1;33m(\u001b[0m\u001b[1;36m30\u001b[0m\u001b[1;33m,\u001b[0m\u001b[1;36m2\u001b[0m\u001b[1;33m)\u001b[0m\u001b[1;33m,\u001b[0m \u001b[0mthresh\u001b[0m\u001b[1;33m=\u001b[0m\u001b[1;36m0.3\u001b[0m\u001b[1;33m,\u001b[0m \u001b[0mtau_m\u001b[0m\u001b[1;33m=\u001b[0m\u001b[1;34m'adp'\u001b[0m\u001b[1;33m,\u001b[0m \u001b[0mwin\u001b[0m\u001b[1;33m=\u001b[0m\u001b[0mtime_window\u001b[0m\u001b[1;33m,\u001b[0m \u001b[0msurr\u001b[0m\u001b[1;33m=\u001b[0m\u001b[1;34m'mg'\u001b[0m\u001b[1;33m,\u001b[0m  \u001b[0mloss_fn\u001b[0m \u001b[1;33m=\u001b[0m\u001b[1;34m'mot'\u001b[0m\u001b[1;33m,\u001b[0m \u001b[0mbatch_size\u001b[0m\u001b[1;33m=\u001b[0m\u001b[1;36m256\u001b[0m\u001b[1;33m,\u001b[0m \u001b[0mdevice\u001b[0m\u001b[1;33m=\u001b[0m\u001b[0mdevice\u001b[0m\u001b[1;33m)\u001b[0m\u001b[1;33m\u001b[0m\u001b[1;33m\u001b[0m\u001b[0m\n\u001b[0;32m      3\u001b[0m \u001b[0msnn\u001b[0m\u001b[1;33m.\u001b[0m\u001b[0mto\u001b[0m\u001b[1;33m(\u001b[0m\u001b[0mdevice\u001b[0m\u001b[1;33m)\u001b[0m\u001b[1;33m\u001b[0m\u001b[1;33m\u001b[0m\u001b[0m\n\u001b[1;32m----> 4\u001b[1;33m \u001b[0mtrain\u001b[0m\u001b[1;33m(\u001b[0m\u001b[0msnn\u001b[0m\u001b[1;33m,\u001b[0m \u001b[0mdata\u001b[0m\u001b[1;33m,\u001b[0m \u001b[1;36m1e-3\u001b[0m\u001b[1;33m,\u001b[0m \u001b[1;36m50\u001b[0m\u001b[1;33m,\u001b[0m \u001b[0mckpt_dir\u001b[0m\u001b[1;33m=\u001b[0m\u001b[0mckpt_dir\u001b[0m\u001b[1;33m,\u001b[0m \u001b[0ml1_reg\u001b[0m\u001b[1;33m=\u001b[0m\u001b[1;36m0.0\u001b[0m\u001b[1;33m)\u001b[0m\u001b[1;33m\u001b[0m\u001b[1;33m\u001b[0m\u001b[0m\n\u001b[0m",
      "\u001b[1;32m~\\Python\\SRNN_tests\\my_snn\\utils.py\u001b[0m in \u001b[0;36mtrain\u001b[1;34m(snn, data, learning_rate, num_epochs, spkreg, l1_reg, dropout, lr_scale, ckpt_dir, test_fn, scheduler)\u001b[0m\n\u001b[0;32m     69\u001b[0m         \u001b[0mprint\u001b[0m\u001b[1;33m(\u001b[0m\u001b[1;34m'Epoch [%d/%d]'\u001b[0m  \u001b[1;33m%\u001b[0m \u001b[1;33m(\u001b[0m\u001b[0mepoch\u001b[0m \u001b[1;33m+\u001b[0m \u001b[1;36m1\u001b[0m\u001b[1;33m,\u001b[0m \u001b[0mnum_epochs\u001b[0m\u001b[1;33m)\u001b[0m\u001b[1;33m)\u001b[0m\u001b[1;33m\u001b[0m\u001b[1;33m\u001b[0m\u001b[0m\n\u001b[0;32m     70\u001b[0m         \u001b[0mstart_time\u001b[0m \u001b[1;33m=\u001b[0m \u001b[0mtime\u001b[0m\u001b[1;33m.\u001b[0m\u001b[0mtime\u001b[0m\u001b[1;33m(\u001b[0m\u001b[1;33m)\u001b[0m\u001b[1;33m\u001b[0m\u001b[1;33m\u001b[0m\u001b[0m\n\u001b[1;32m---> 71\u001b[1;33m         \u001b[0msnn\u001b[0m\u001b[1;33m.\u001b[0m\u001b[0mtrain_step\u001b[0m\u001b[1;33m(\u001b[0m\u001b[0mtrain_loader\u001b[0m\u001b[1;33m,\u001b[0m \u001b[0moptimizer\u001b[0m\u001b[1;33m=\u001b[0m\u001b[0moptimizer\u001b[0m\u001b[1;33m,\u001b[0m \u001b[0mspkreg\u001b[0m\u001b[1;33m=\u001b[0m\u001b[0mspkreg\u001b[0m\u001b[1;33m,\u001b[0m \u001b[0ml1_reg\u001b[0m\u001b[1;33m=\u001b[0m\u001b[0ml1_reg\u001b[0m\u001b[1;33m,\u001b[0m \u001b[0mdropout\u001b[0m\u001b[1;33m=\u001b[0m\u001b[0mdropout\u001b[0m\u001b[1;33m)\u001b[0m\u001b[1;33m\u001b[0m\u001b[1;33m\u001b[0m\u001b[0m\n\u001b[0m\u001b[0;32m     72\u001b[0m         \u001b[0mt\u001b[0m \u001b[1;33m=\u001b[0m  \u001b[0mtime\u001b[0m\u001b[1;33m.\u001b[0m\u001b[0mtime\u001b[0m\u001b[1;33m(\u001b[0m\u001b[1;33m)\u001b[0m \u001b[1;33m-\u001b[0m \u001b[0mstart_time\u001b[0m\u001b[1;33m\u001b[0m\u001b[1;33m\u001b[0m\u001b[0m\n\u001b[0;32m     73\u001b[0m         \u001b[0mprint\u001b[0m\u001b[1;33m(\u001b[0m\u001b[1;34m'Time elasped:'\u001b[0m\u001b[1;33m,\u001b[0m \u001b[0mt\u001b[0m\u001b[1;33m)\u001b[0m\u001b[1;33m\u001b[0m\u001b[1;33m\u001b[0m\u001b[0m\n",
      "\u001b[1;32m~\\Python\\SRNN_tests\\my_snn\\abstract_rsnn.py\u001b[0m in \u001b[0;36mtrain_step\u001b[1;34m(self, train_loader, optimizer, spkreg, l1_reg, dropout)\u001b[0m\n\u001b[0;32m    141\u001b[0m             \u001b[1;31m# images = images > 0\u001b[0m\u001b[1;33m\u001b[0m\u001b[1;33m\u001b[0m\u001b[1;33m\u001b[0m\u001b[0m\n\u001b[0;32m    142\u001b[0m \u001b[1;33m\u001b[0m\u001b[0m\n\u001b[1;32m--> 143\u001b[1;33m             \u001b[0mimages\u001b[0m \u001b[1;33m=\u001b[0m \u001b[0mimages\u001b[0m\u001b[1;33m.\u001b[0m\u001b[0mview\u001b[0m\u001b[1;33m(\u001b[0m\u001b[0mself\u001b[0m\u001b[1;33m.\u001b[0m\u001b[0mbatch_size\u001b[0m\u001b[1;33m,\u001b[0m \u001b[0mself\u001b[0m\u001b[1;33m.\u001b[0m\u001b[0mwin\u001b[0m\u001b[1;33m,\u001b[0m \u001b[1;33m-\u001b[0m\u001b[1;36m1\u001b[0m\u001b[1;33m)\u001b[0m\u001b[1;33m.\u001b[0m\u001b[0mfloat\u001b[0m\u001b[1;33m(\u001b[0m\u001b[1;33m)\u001b[0m\u001b[1;33m.\u001b[0m\u001b[0msqueeze\u001b[0m\u001b[1;33m(\u001b[0m\u001b[1;33m)\u001b[0m\u001b[1;33m.\u001b[0m\u001b[0mto\u001b[0m\u001b[1;33m(\u001b[0m\u001b[0mself\u001b[0m\u001b[1;33m.\u001b[0m\u001b[0mdevice\u001b[0m\u001b[1;33m)\u001b[0m\u001b[1;33m\u001b[0m\u001b[1;33m\u001b[0m\u001b[0m\n\u001b[0m\u001b[0;32m    144\u001b[0m             \u001b[0mlabels\u001b[0m \u001b[1;33m=\u001b[0m \u001b[0mlabels\u001b[0m\u001b[1;33m.\u001b[0m\u001b[0mfloat\u001b[0m\u001b[1;33m(\u001b[0m\u001b[1;33m)\u001b[0m\u001b[1;33m.\u001b[0m\u001b[0msqueeze\u001b[0m\u001b[1;33m(\u001b[0m\u001b[1;33m)\u001b[0m\u001b[1;33m.\u001b[0m\u001b[0mto\u001b[0m\u001b[1;33m(\u001b[0m\u001b[0mself\u001b[0m\u001b[1;33m.\u001b[0m\u001b[0mdevice\u001b[0m\u001b[1;33m)\u001b[0m\u001b[1;33m\u001b[0m\u001b[1;33m\u001b[0m\u001b[0m\n\u001b[0;32m    145\u001b[0m \u001b[1;33m\u001b[0m\u001b[0m\n",
      "\u001b[1;31mKeyboardInterrupt\u001b[0m: "
     ]
    }
   ],
   "source": [
    "hidden = (64, 2, 'f')\n",
    "snn = RSNN_d_i(dataset, hidden=hidden, delay = (30,2), thresh=0.3, tau_m='adp', win=time_window, surr='mg',  loss_fn ='mot', batch_size=256, device=device)\n",
    "snn.to(device)\n",
    "train(snn, data, 1e-3, 50, ckpt_dir=ckpt_dir, l1_reg=0.0)"
   ]
  },
  {
   "cell_type": "code",
   "execution_count": null,
   "id": "f751e337-56ba-4e1c-81e4-32eede521b2c",
   "metadata": {},
   "outputs": [],
   "source": []
  }
 ],
 "metadata": {
  "kernelspec": {
   "display_name": "Python 3",
   "language": "python",
   "name": "python3"
  },
  "language_info": {
   "codemirror_mode": {
    "name": "ipython",
    "version": 3
   },
   "file_extension": ".py",
   "mimetype": "text/x-python",
   "name": "python",
   "nbconvert_exporter": "python",
   "pygments_lexer": "ipython3",
   "version": "3.6.13"
  }
 },
 "nbformat": 4,
 "nbformat_minor": 5
}
