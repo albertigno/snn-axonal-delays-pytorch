{
 "cells": [
  {
   "cell_type": "code",
   "execution_count": 1,
   "id": "dcbe333d-2075-480c-9215-8071fd0935b3",
   "metadata": {},
   "outputs": [],
   "source": [
    "from my_snn.rsnn import RSNN, RSNN_2l, RSNN_2l_ALIF\n",
    "from my_snn.rsnn_delays import RSNN_d_d, RSNN_d_i, RSNN_d_all\n",
    "from my_snn.tonic_dataloader import DatasetLoader\n",
    "from my_snn.custom_dataloader import AddTaskDatasetLoader\n",
    "from my_snn.utils import train, training_plots\n",
    "import torch\n",
    "device = \"cuda:0\"\n",
    "\n",
    "time_window = 50\n",
    "batch_size = 128 # 128: anil kag\n",
    "from torch.utils.data import DataLoader\n",
    "#d_train = AddTaskDatasetLoader(time_window, batch_size)\n",
    "d_train = AddTaskDatasetLoader(time_window, batch_size, randomness=True)\n",
    "d_test = AddTaskDatasetLoader(time_window, batch_size, randomness=True) # 2560 from schmiduber paper\n",
    "train_loader = DataLoader(d_train, batch_size=batch_size, num_workers=0)\n",
    "test_loader = DataLoader(d_test, batch_size=batch_size, num_workers=0)\n",
    "ckpt_dir = 'addsum_tests'\n",
    "\n",
    "data = train_loader, test_loader\n",
    "\n",
    "def test_fn(snn, ckpt_dir, test_loader, max_acc, epoch):\n",
    "    if (epoch + 1) % 5 == 0:\n",
    "        #if epoch>=50:\n",
    "            #print('pooling delays')\n",
    "            #snn.pool_delays('i', k= 10, freeze=False)\n",
    "        for images, labels in test_loader:\n",
    "            pred, ref = snn.propagate(images.to(device), labels.to(device))\n",
    "            \n",
    "        correct = torch.sum(abs(pred-ref) < 0.04)\n",
    "        print(f'Test set accuracy: {100*correct.item()/len(images)}% ')\n",
    "        print('--------------------------')\n",
    "    return max_acc"
   ]
  },
  {
   "cell_type": "code",
   "execution_count": null,
   "id": "b506a0ce-43a3-4f26-8f32-8e7fe8f80c8c",
   "metadata": {},
   "outputs": [],
   "source": [
    "surr='step'\n",
    "\n",
    "name='addsum50_d_i_128_{surr}'\n",
    "\n",
    "hidden = (128, 1, 'f')\n",
    "snn = RSNN_d_i('custom_2_1_{}'.format(batch_size), hidden=hidden, delay =(50,1), thresh=0.3, tau_m='adp', win=time_window, surr=surr,  loss_fn ='prediction', batch_size=batch_size, device=device)\n",
    "snn.plot(snn.tau_m_1)\n",
    "snn.to(device)\n",
    "\n",
    "train(snn, data, 1e-3, 5000, ckpt_dir=ckpt_dir, l1_reg=0.0, test_fn=test_fn, scheduler=False)\n",
    "snn.save_model('rsnn_d_all_2', ckpt_dir)"
   ]
  },
  {
   "cell_type": "code",
   "execution_count": null,
   "id": "05cdf611-2c88-4792-b8ad-4045edfdfaa3",
   "metadata": {},
   "outputs": [],
   "source": [
    "surr='mg'\n",
    "\n",
    "name='addsum50_d_i_128_{surr}'\n",
    "\n",
    "hidden = (128, 1, 'f')\n",
    "snn = RSNN_d_i('custom_2_1_{}'.format(batch_size), hidden=hidden, delay =(50,1), thresh=0.3, tau_m='adp', win=time_window, surr=surr,  loss_fn ='prediction', batch_size=batch_size, device=device)\n",
    "snn.plot(snn.tau_m_1)\n",
    "snn.to(device)\n",
    "\n",
    "train(snn, data, 1e-3, 5000, ckpt_dir=ckpt_dir, l1_reg=0.0, test_fn=test_fn, scheduler=False)\n",
    "snn.save_model('rsnn_d_all_2', ckpt_dir)"
   ]
  },
  {
   "cell_type": "code",
   "execution_count": null,
   "id": "9e2ef554-9d0f-47f0-8211-7a2c3944fd7a",
   "metadata": {},
   "outputs": [],
   "source": [
    "surr='step'\n",
    "\n",
    "name='addsum50_d_i_128_{surr}'\n",
    "\n",
    "hidden = (128, 1, 'f')\n",
    "snn = RSNN_d_i('custom_2_1_{}'.format(batch_size), hidden=hidden, delay =(50,1), thresh=0.3, tau_m='adp', win=time_window, surr=surr,  loss_fn ='prediction', batch_size=batch_size, device=device)\n",
    "snn.plot(snn.tau_m_1)\n",
    "snn.to(device)\n",
    "\n",
    "train(snn, data, 1e-3, 5000, ckpt_dir=ckpt_dir, l1_reg=0.0, test_fn=test_fn, scheduler=False)\n",
    "snn.save_model('rsnn_d_all_2', ckpt_dir)"
   ]
  }
 ],
 "metadata": {
  "kernelspec": {
   "display_name": "Python 3",
   "language": "python",
   "name": "python3"
  },
  "language_info": {
   "codemirror_mode": {
    "name": "ipython",
    "version": 3
   },
   "file_extension": ".py",
   "mimetype": "text/x-python",
   "name": "python",
   "nbconvert_exporter": "python",
   "pygments_lexer": "ipython3",
   "version": "3.6.13"
  }
 },
 "nbformat": 4,
 "nbformat_minor": 5
}
